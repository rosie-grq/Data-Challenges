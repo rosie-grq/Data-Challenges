{
 "cells": [
  {
   "cell_type": "markdown",
   "metadata": {},
   "source": [
    "## Project Description:\n",
    "\n",
    "The goal of the project is to build a movie recomender system by trying out multiple variations of content-based methods, collaborative filtering methods (memory-based and model-based) and hybrid methods. The dataset used for the project is the MovieLens latest small dataset.\n",
    "\n",
    "The project consists of 4 sections:\n",
    "\n",
    "1. Data Cleaning and Exploration\n",
    "\n",
    "\n",
    "2. Memory-Based Approach: \n",
    "\n",
    "    a. Used tfidf vectorization to process text data, and apply truncated SVD to find the top 200 singular value components\n",
    "    \n",
    "    b. Applied both Pearson correlation and Cosine correlation as similarity functions\n",
    "   \n",
    "    c. Used user-item similarity and item-item similarity(combining rating and content information)\n",
    "    \n",
    "    d. Considered the rating habit of users and tried removing bias from users before computing similarities\n",
    "\n",
    "\n",
    "3. Model-Based Approach: \n",
    "\n",
    "    a. Used the surprise package. Algorithms used in the project includes: NMF, SVD, NormalPredictior, KNN (and also variations of the algorithm)\n",
    "\n",
    "\n",
    "4. Conclusions\n",
    "\n",
    "    a. For the Memory-Based Approach, item-item similarity with removed bias model achieved the highest predictability using RMSE as evaluation metrics. For the Model-Based Approach, tuned SVD model has the best performance, using RMSE as evaluation metrics.\n",
    "    \n",
    "    b. We're able to predict a user's rating of a movie that he/she has not watched using the model.\n",
    "    \n"
   ]
  },
  {
   "cell_type": "code",
   "execution_count": 58,
   "metadata": {},
   "outputs": [],
   "source": [
    "import pandas as pd\n",
    "import numpy as np\n",
    "import matplotlib.pyplot as plt\n",
    "import seaborn as sns\n",
    "from datetime import datetime\n",
    "from sklearn.feature_extraction.text import TfidfVectorizer\n",
    "from sklearn.metrics.pairwise import cosine_similarity\n",
    "from sklearn.decomposition import TruncatedSVD\n",
    "from surprise import Reader, SVD, accuracy,KNNBasic,NormalPredictor, KNNWithZScore, KNNWithMeans, NMF,dataset\n",
    "from surprise.model_selection import train_test_split,cross_validate,GridSearchCV\n",
    "from scipy.sparse import csr_matrix\n",
    "from scipy.stats import pearsonr"
   ]
  },
  {
   "cell_type": "markdown",
   "metadata": {},
   "source": [
    "### Data Cleaning and Exploration"
   ]
  },
  {
   "cell_type": "code",
   "execution_count": 3,
   "metadata": {},
   "outputs": [],
   "source": [
    "ratings=pd.read_csv(\"./ml-latest-small/ratings.csv\")\n",
    "movies=pd.read_csv(\"./ml-latest-small/movies.csv\")\n",
    "tags=pd.read_csv(\"./ml-latest-small/tags.csv\")"
   ]
  },
  {
   "cell_type": "code",
   "execution_count": 4,
   "metadata": {},
   "outputs": [],
   "source": [
    "ratings['date']=ratings.timestamp.apply(lambda x: datetime.fromtimestamp(x))\n",
    "ratings['year']=ratings.date.dt.year\n",
    "ratings['month']=ratings.date.dt.month\n",
    "ratings['day']=ratings.date.dt.day"
   ]
  },
  {
   "cell_type": "code",
   "execution_count": 5,
   "metadata": {},
   "outputs": [
    {
     "data": {
      "text/html": [
       "<div>\n",
       "<style scoped>\n",
       "    .dataframe tbody tr th:only-of-type {\n",
       "        vertical-align: middle;\n",
       "    }\n",
       "\n",
       "    .dataframe tbody tr th {\n",
       "        vertical-align: top;\n",
       "    }\n",
       "\n",
       "    .dataframe thead th {\n",
       "        text-align: right;\n",
       "    }\n",
       "</style>\n",
       "<table border=\"1\" class=\"dataframe\">\n",
       "  <thead>\n",
       "    <tr style=\"text-align: right;\">\n",
       "      <th></th>\n",
       "      <th>userId</th>\n",
       "      <th>movieId</th>\n",
       "      <th>rating</th>\n",
       "      <th>timestamp</th>\n",
       "      <th>date</th>\n",
       "      <th>year</th>\n",
       "      <th>month</th>\n",
       "      <th>day</th>\n",
       "    </tr>\n",
       "  </thead>\n",
       "  <tbody>\n",
       "    <tr>\n",
       "      <td>0</td>\n",
       "      <td>1</td>\n",
       "      <td>1</td>\n",
       "      <td>4.0</td>\n",
       "      <td>964982703</td>\n",
       "      <td>2000-07-30 11:45:03</td>\n",
       "      <td>2000</td>\n",
       "      <td>7</td>\n",
       "      <td>30</td>\n",
       "    </tr>\n",
       "    <tr>\n",
       "      <td>1</td>\n",
       "      <td>1</td>\n",
       "      <td>3</td>\n",
       "      <td>4.0</td>\n",
       "      <td>964981247</td>\n",
       "      <td>2000-07-30 11:20:47</td>\n",
       "      <td>2000</td>\n",
       "      <td>7</td>\n",
       "      <td>30</td>\n",
       "    </tr>\n",
       "    <tr>\n",
       "      <td>2</td>\n",
       "      <td>1</td>\n",
       "      <td>6</td>\n",
       "      <td>4.0</td>\n",
       "      <td>964982224</td>\n",
       "      <td>2000-07-30 11:37:04</td>\n",
       "      <td>2000</td>\n",
       "      <td>7</td>\n",
       "      <td>30</td>\n",
       "    </tr>\n",
       "    <tr>\n",
       "      <td>3</td>\n",
       "      <td>1</td>\n",
       "      <td>47</td>\n",
       "      <td>5.0</td>\n",
       "      <td>964983815</td>\n",
       "      <td>2000-07-30 12:03:35</td>\n",
       "      <td>2000</td>\n",
       "      <td>7</td>\n",
       "      <td>30</td>\n",
       "    </tr>\n",
       "    <tr>\n",
       "      <td>4</td>\n",
       "      <td>1</td>\n",
       "      <td>50</td>\n",
       "      <td>5.0</td>\n",
       "      <td>964982931</td>\n",
       "      <td>2000-07-30 11:48:51</td>\n",
       "      <td>2000</td>\n",
       "      <td>7</td>\n",
       "      <td>30</td>\n",
       "    </tr>\n",
       "  </tbody>\n",
       "</table>\n",
       "</div>"
      ],
      "text/plain": [
       "   userId  movieId  rating  timestamp                date  year  month  day\n",
       "0       1        1     4.0  964982703 2000-07-30 11:45:03  2000      7   30\n",
       "1       1        3     4.0  964981247 2000-07-30 11:20:47  2000      7   30\n",
       "2       1        6     4.0  964982224 2000-07-30 11:37:04  2000      7   30\n",
       "3       1       47     5.0  964983815 2000-07-30 12:03:35  2000      7   30\n",
       "4       1       50     5.0  964982931 2000-07-30 11:48:51  2000      7   30"
      ]
     },
     "execution_count": 5,
     "metadata": {},
     "output_type": "execute_result"
    }
   ],
   "source": [
    "ratings.head(5)"
   ]
  },
  {
   "cell_type": "code",
   "execution_count": 6,
   "metadata": {},
   "outputs": [
    {
     "name": "stdout",
     "output_type": "stream",
     "text": [
      "<class 'pandas.core.frame.DataFrame'>\n",
      "RangeIndex: 100836 entries, 0 to 100835\n",
      "Data columns (total 8 columns):\n",
      "userId       100836 non-null int64\n",
      "movieId      100836 non-null int64\n",
      "rating       100836 non-null float64\n",
      "timestamp    100836 non-null int64\n",
      "date         100836 non-null datetime64[ns]\n",
      "year         100836 non-null int64\n",
      "month        100836 non-null int64\n",
      "day          100836 non-null int64\n",
      "dtypes: datetime64[ns](1), float64(1), int64(6)\n",
      "memory usage: 6.2 MB\n"
     ]
    }
   ],
   "source": [
    "ratings.info()"
   ]
  },
  {
   "cell_type": "code",
   "execution_count": 7,
   "metadata": {},
   "outputs": [
    {
     "data": {
      "image/png": "[encoded data removed]",
      "text/plain": [
       "<Figure size 720x432 with 1 Axes>"
      ]
     },
     "metadata": {
      "needs_background": "light"
     },
     "output_type": "display_data"
    }
   ],
   "source": [
    "plt.figure(figsize = (10, 6))\n",
    "ax = sns.countplot(x=\"rating\", data=ratings)\n",
    "plt.title(\"Distribution of Ratings\", fontsize = 10)\n",
    "plt.xlabel(\"Ratings\", fontsize = 10)\n",
    "plt.ylabel(\"Number of Ratings\", fontsize = 10)\n",
    "plt.show()"
   ]
  },
  {
   "cell_type": "code",
   "execution_count": 8,
   "metadata": {},
   "outputs": [
    {
     "data": {
      "text/plain": [
       "Text(0.5, 0, 'Number of Ratings by Users')"
      ]
     },
     "execution_count": 8,
     "metadata": {},
     "output_type": "execute_result"
    },
    {
     "data": {
      "image/png": "[encoded data removed]",
      "text/plain": [
       "<Figure size 1008x504 with 2 Axes>"
      ]
     },
     "metadata": {
      "needs_background": "light"
     },
     "output_type": "display_data"
    }
   ],
   "source": [
    "ratings_per_user=ratings.groupby('userId')['rating'].count()\n",
    "fig, axes = plt.subplots(nrows = 1, ncols = 2, figsize=(14,7))\n",
    "sns.kdeplot(ratings_per_user.values, shade = True, ax = axes[0])\n",
    "axes[0].set_title(\"PDF\", fontsize = 16)\n",
    "axes[0].set_xlabel(\"Number of Ratings by Users\", fontsize = 10)\n",
    "sns.kdeplot(ratings_per_user.values, shade = True, ax = axes[1], cumulative=True)\n",
    "axes[1].set_title(\"CDF\", fontsize = 16)\n",
    "axes[1].set_xlabel(\"Number of Ratings by Users\", fontsize = 10)"
   ]
  },
  {
   "cell_type": "code",
   "execution_count": 9,
   "metadata": {},
   "outputs": [
    {
     "data": {
      "text/plain": [
       "Text(0.5, 0, 'Mean Ratings by Users')"
      ]
     },
     "execution_count": 9,
     "metadata": {},
     "output_type": "execute_result"
    },
    {
     "data": {
      "image/png": "[encoded data removed]",
      "text/plain": [
       "<Figure size 1008x504 with 2 Axes>"
      ]
     },
     "metadata": {
      "needs_background": "light"
     },
     "output_type": "display_data"
    }
   ],
   "source": [
    "ratings_per_user=ratings.groupby('userId')['rating'].mean()\n",
    "fig, axes = plt.subplots(nrows = 1, ncols = 2, figsize=(14,7))\n",
    "sns.kdeplot(ratings_per_user.values, shade = True, ax = axes[0])\n",
    "axes[0].set_title(\"PDF\", fontsize = 16)\n",
    "axes[0].set_xlabel(\"Mean Ratings by Users\", fontsize = 10)\n",
    "sns.kdeplot(ratings_per_user.values, shade = True, ax = axes[1], cumulative=True)\n",
    "axes[1].set_title(\"CDF\", fontsize = 16)\n",
    "axes[1].set_xlabel(\"Mean Ratings by Users\", fontsize = 10)"
   ]
  },
  {
   "cell_type": "code",
   "execution_count": 10,
   "metadata": {},
   "outputs": [
    {
     "data": {
      "image/png": "[encoded data removed]",
      "text/plain": [
       "<Figure size 720x432 with 1 Axes>"
      ]
     },
     "metadata": {
      "needs_background": "light"
     },
     "output_type": "display_data"
    }
   ],
   "source": [
    "fig = plt.figure(figsize = (10, 6))\n",
    "axes = sns.countplot(x = \"year\", data = ratings)\n",
    "axes.set_title(\"Year VS Number of Ratings\", fontsize = 10)\n",
    "axes.set_xlabel(\"Year\", fontsize = 10)\n",
    "axes.set_ylabel(\"Number of Ratings\", fontsize = 10)\n",
    "plt.show()"
   ]
  },
  {
   "cell_type": "code",
   "execution_count": 11,
   "metadata": {},
   "outputs": [],
   "source": [
    "#ratings.userId.unique()"
   ]
  },
  {
   "cell_type": "code",
   "execution_count": 12,
   "metadata": {},
   "outputs": [
    {
     "data": {
      "text/html": [
       "<div>\n",
       "<style scoped>\n",
       "    .dataframe tbody tr th:only-of-type {\n",
       "        vertical-align: middle;\n",
       "    }\n",
       "\n",
       "    .dataframe tbody tr th {\n",
       "        vertical-align: top;\n",
       "    }\n",
       "\n",
       "    .dataframe thead th {\n",
       "        text-align: right;\n",
       "    }\n",
       "</style>\n",
       "<table border=\"1\" class=\"dataframe\">\n",
       "  <thead>\n",
       "    <tr style=\"text-align: right;\">\n",
       "      <th></th>\n",
       "      <th>movieId</th>\n",
       "      <th>title</th>\n",
       "      <th>genres</th>\n",
       "    </tr>\n",
       "  </thead>\n",
       "  <tbody>\n",
       "    <tr>\n",
       "      <td>0</td>\n",
       "      <td>1</td>\n",
       "      <td>Toy Story (1995)</td>\n",
       "      <td>Adventure Animation Children Comedy Fantasy</td>\n",
       "    </tr>\n",
       "    <tr>\n",
       "      <td>1</td>\n",
       "      <td>2</td>\n",
       "      <td>Jumanji (1995)</td>\n",
       "      <td>Adventure Children Fantasy</td>\n",
       "    </tr>\n",
       "    <tr>\n",
       "      <td>2</td>\n",
       "      <td>3</td>\n",
       "      <td>Grumpier Old Men (1995)</td>\n",
       "      <td>Comedy Romance</td>\n",
       "    </tr>\n",
       "    <tr>\n",
       "      <td>3</td>\n",
       "      <td>4</td>\n",
       "      <td>Waiting to Exhale (1995)</td>\n",
       "      <td>Comedy Drama Romance</td>\n",
       "    </tr>\n",
       "    <tr>\n",
       "      <td>4</td>\n",
       "      <td>5</td>\n",
       "      <td>Father of the Bride Part II (1995)</td>\n",
       "      <td>Comedy</td>\n",
       "    </tr>\n",
       "  </tbody>\n",
       "</table>\n",
       "</div>"
      ],
      "text/plain": [
       "   movieId                               title  \\\n",
       "0        1                    Toy Story (1995)   \n",
       "1        2                      Jumanji (1995)   \n",
       "2        3             Grumpier Old Men (1995)   \n",
       "3        4            Waiting to Exhale (1995)   \n",
       "4        5  Father of the Bride Part II (1995)   \n",
       "\n",
       "                                        genres  \n",
       "0  Adventure Animation Children Comedy Fantasy  \n",
       "1                   Adventure Children Fantasy  \n",
       "2                               Comedy Romance  \n",
       "3                         Comedy Drama Romance  \n",
       "4                                       Comedy  "
      ]
     },
     "execution_count": 12,
     "metadata": {},
     "output_type": "execute_result"
    }
   ],
   "source": [
    "#remove the '|' signs in the genres column\n",
    "movies['genres']=movies.genres.apply(lambda x: ' '.join(x.split('|')))\n",
    "movies.head(5)"
   ]
  },
  {
   "cell_type": "code",
   "execution_count": 13,
   "metadata": {},
   "outputs": [
    {
     "data": {
      "text/html": [
       "<div>\n",
       "<style scoped>\n",
       "    .dataframe tbody tr th:only-of-type {\n",
       "        vertical-align: middle;\n",
       "    }\n",
       "\n",
       "    .dataframe tbody tr th {\n",
       "        vertical-align: top;\n",
       "    }\n",
       "\n",
       "    .dataframe thead th {\n",
       "        text-align: right;\n",
       "    }\n",
       "</style>\n",
       "<table border=\"1\" class=\"dataframe\">\n",
       "  <thead>\n",
       "    <tr style=\"text-align: right;\">\n",
       "      <th></th>\n",
       "      <th>userId</th>\n",
       "      <th>movieId</th>\n",
       "      <th>tag</th>\n",
       "      <th>timestamp</th>\n",
       "    </tr>\n",
       "  </thead>\n",
       "  <tbody>\n",
       "    <tr>\n",
       "      <td>0</td>\n",
       "      <td>2</td>\n",
       "      <td>60756</td>\n",
       "      <td>funny</td>\n",
       "      <td>1445714994</td>\n",
       "    </tr>\n",
       "    <tr>\n",
       "      <td>1</td>\n",
       "      <td>2</td>\n",
       "      <td>60756</td>\n",
       "      <td>Highly quotable</td>\n",
       "      <td>1445714996</td>\n",
       "    </tr>\n",
       "    <tr>\n",
       "      <td>2</td>\n",
       "      <td>2</td>\n",
       "      <td>60756</td>\n",
       "      <td>will ferrell</td>\n",
       "      <td>1445714992</td>\n",
       "    </tr>\n",
       "    <tr>\n",
       "      <td>3</td>\n",
       "      <td>2</td>\n",
       "      <td>89774</td>\n",
       "      <td>Boxing story</td>\n",
       "      <td>1445715207</td>\n",
       "    </tr>\n",
       "    <tr>\n",
       "      <td>4</td>\n",
       "      <td>2</td>\n",
       "      <td>89774</td>\n",
       "      <td>MMA</td>\n",
       "      <td>1445715200</td>\n",
       "    </tr>\n",
       "  </tbody>\n",
       "</table>\n",
       "</div>"
      ],
      "text/plain": [
       "   userId  movieId              tag   timestamp\n",
       "0       2    60756            funny  1445714994\n",
       "1       2    60756  Highly quotable  1445714996\n",
       "2       2    60756     will ferrell  1445714992\n",
       "3       2    89774     Boxing story  1445715207\n",
       "4       2    89774              MMA  1445715200"
      ]
     },
     "execution_count": 13,
     "metadata": {},
     "output_type": "execute_result"
    }
   ],
   "source": [
    "tags.head(5)"
   ]
  },
  {
   "cell_type": "code",
   "execution_count": 14,
   "metadata": {},
   "outputs": [
    {
     "name": "stderr",
     "output_type": "stream",
     "text": [
      "/Users/ruoqigao/opt/anaconda3/lib/python3.7/site-packages/ipykernel_launcher.py:4: SettingWithCopyWarning: \n",
      "A value is trying to be set on a copy of a slice from a DataFrame.\n",
      "Try using .loc[row_indexer,col_indexer] = value instead\n",
      "\n",
      "See the caveats in the documentation: http://pandas.pydata.org/pandas-docs/stable/user_guide/indexing.html#returning-a-view-versus-a-copy\n",
      "  after removing the cwd from sys.path.\n"
     ]
    }
   ],
   "source": [
    "#remove rows with duplicated titles, keep the rows with more genres information\n",
    "title=movies.title\n",
    "dup_movies=movies[title.isin(title[title.duplicated()])]\n",
    "dup_movies['genres_info']=dup_movies['genres'].apply(lambda x: len(x))\n",
    "index_to_delete=dup_movies.sort_values('genres_info').drop_duplicates(subset='title',keep='last').index\n",
    "movies=movies.drop(movies.index[index_to_delete])                                                                             "
   ]
  },
  {
   "cell_type": "code",
   "execution_count": 16,
   "metadata": {},
   "outputs": [],
   "source": [
    "#print(movies.head(5))"
   ]
  },
  {
   "cell_type": "code",
   "execution_count": 18,
   "metadata": {},
   "outputs": [],
   "source": [
    "#only keep the movies with ratings\n",
    "movie_with_rating = ratings.movieId.unique().tolist()\n",
    "movies=movies[movies.movieId.isin(movie_with_rating)]\n",
    "#print(movies.head(5))"
   ]
  },
  {
   "cell_type": "code",
   "execution_count": 19,
   "metadata": {},
   "outputs": [],
   "source": [
    "#merge tags and movies\n",
    "mixed=pd.merge(movies, tags, on='movieId')\n",
    "#print(mixed.head(5))"
   ]
  },
  {
   "cell_type": "code",
   "execution_count": 20,
   "metadata": {},
   "outputs": [],
   "source": [
    "mixed.fillna(\"\", inplace=True)"
   ]
  },
  {
   "cell_type": "code",
   "execution_count": 21,
   "metadata": {},
   "outputs": [],
   "source": [
    "mixed=pd.DataFrame(mixed.groupby('movieId')['tag'].apply(lambda x: \"%s\" % ' '.join(x)))"
   ]
  },
  {
   "cell_type": "code",
   "execution_count": 22,
   "metadata": {},
   "outputs": [],
   "source": [
    "merged=pd.merge(movies, mixed, on='movieId', how='left')"
   ]
  },
  {
   "cell_type": "code",
   "execution_count": 23,
   "metadata": {},
   "outputs": [],
   "source": [
    "merged.fillna(\"\", inplace=True)\n",
    "merged['metadata']= merged[['tag', 'genres']].apply(lambda x: ' '.join(x), axis = 1)"
   ]
  },
  {
   "cell_type": "code",
   "execution_count": 24,
   "metadata": {},
   "outputs": [
    {
     "data": {
      "text/html": [
       "<div>\n",
       "<style scoped>\n",
       "    .dataframe tbody tr th:only-of-type {\n",
       "        vertical-align: middle;\n",
       "    }\n",
       "\n",
       "    .dataframe tbody tr th {\n",
       "        vertical-align: top;\n",
       "    }\n",
       "\n",
       "    .dataframe thead th {\n",
       "        text-align: right;\n",
       "    }\n",
       "</style>\n",
       "<table border=\"1\" class=\"dataframe\">\n",
       "  <thead>\n",
       "    <tr style=\"text-align: right;\">\n",
       "      <th></th>\n",
       "      <th>movieId</th>\n",
       "      <th>title</th>\n",
       "      <th>genres</th>\n",
       "      <th>tag</th>\n",
       "      <th>metadata</th>\n",
       "    </tr>\n",
       "  </thead>\n",
       "  <tbody>\n",
       "    <tr>\n",
       "      <td>0</td>\n",
       "      <td>1</td>\n",
       "      <td>Toy Story (1995)</td>\n",
       "      <td>Adventure Animation Children Comedy Fantasy</td>\n",
       "      <td>pixar pixar fun</td>\n",
       "      <td>pixar pixar fun Adventure Animation Children C...</td>\n",
       "    </tr>\n",
       "    <tr>\n",
       "      <td>1</td>\n",
       "      <td>2</td>\n",
       "      <td>Jumanji (1995)</td>\n",
       "      <td>Adventure Children Fantasy</td>\n",
       "      <td>fantasy magic board game Robin Williams game</td>\n",
       "      <td>fantasy magic board game Robin Williams game A...</td>\n",
       "    </tr>\n",
       "    <tr>\n",
       "      <td>2</td>\n",
       "      <td>3</td>\n",
       "      <td>Grumpier Old Men (1995)</td>\n",
       "      <td>Comedy Romance</td>\n",
       "      <td>moldy old</td>\n",
       "      <td>moldy old Comedy Romance</td>\n",
       "    </tr>\n",
       "    <tr>\n",
       "      <td>3</td>\n",
       "      <td>4</td>\n",
       "      <td>Waiting to Exhale (1995)</td>\n",
       "      <td>Comedy Drama Romance</td>\n",
       "      <td></td>\n",
       "      <td>Comedy Drama Romance</td>\n",
       "    </tr>\n",
       "    <tr>\n",
       "      <td>4</td>\n",
       "      <td>5</td>\n",
       "      <td>Father of the Bride Part II (1995)</td>\n",
       "      <td>Comedy</td>\n",
       "      <td>pregnancy remake</td>\n",
       "      <td>pregnancy remake Comedy</td>\n",
       "    </tr>\n",
       "  </tbody>\n",
       "</table>\n",
       "</div>"
      ],
      "text/plain": [
       "   movieId                               title  \\\n",
       "0        1                    Toy Story (1995)   \n",
       "1        2                      Jumanji (1995)   \n",
       "2        3             Grumpier Old Men (1995)   \n",
       "3        4            Waiting to Exhale (1995)   \n",
       "4        5  Father of the Bride Part II (1995)   \n",
       "\n",
       "                                        genres  \\\n",
       "0  Adventure Animation Children Comedy Fantasy   \n",
       "1                   Adventure Children Fantasy   \n",
       "2                               Comedy Romance   \n",
       "3                         Comedy Drama Romance   \n",
       "4                                       Comedy   \n",
       "\n",
       "                                            tag  \\\n",
       "0                               pixar pixar fun   \n",
       "1  fantasy magic board game Robin Williams game   \n",
       "2                                     moldy old   \n",
       "3                                                 \n",
       "4                              pregnancy remake   \n",
       "\n",
       "                                            metadata  \n",
       "0  pixar pixar fun Adventure Animation Children C...  \n",
       "1  fantasy magic board game Robin Williams game A...  \n",
       "2                           moldy old Comedy Romance  \n",
       "3                               Comedy Drama Romance  \n",
       "4                            pregnancy remake Comedy  "
      ]
     },
     "execution_count": 24,
     "metadata": {},
     "output_type": "execute_result"
    }
   ],
   "source": [
    "merged.head()"
   ]
  },
  {
   "cell_type": "code",
   "execution_count": 25,
   "metadata": {},
   "outputs": [],
   "source": [
    "ratings_merged = pd.merge(ratings, merged, on=\"movieId\", how=\"right\")\n",
    "ratings_merged=ratings_merged.drop(['timestamp','tag','genres'],axis=1)\n",
    "#print(ratings_merged.head())"
   ]
  },
  {
   "cell_type": "code",
   "execution_count": 26,
   "metadata": {},
   "outputs": [],
   "source": [
    "#since each user has at least 20 ratings, we assign 10 ratings of each user into the test set to \n",
    "#aviod coldstart problem\n",
    "for u in ratings_merged.userId.unique():\n",
    "    sampled_index=np.random.choice(ratings_merged.loc[ratings_merged.userId==u].index,size=10,replace=False)\n",
    "    ratings_merged.loc[sampled_index, 'for_testing']=True"
   ]
  },
  {
   "cell_type": "code",
   "execution_count": 27,
   "metadata": {},
   "outputs": [],
   "source": [
    "ratings_merged_test=ratings_merged.loc[ratings_merged.for_testing==True].drop(['for_testing'],axis=1)\n",
    "ratings_merged_train=ratings_merged.loc[ratings_merged.for_testing!=True].drop(['for_testing'],axis=1)"
   ]
  },
  {
   "cell_type": "code",
   "execution_count": 28,
   "metadata": {},
   "outputs": [
    {
     "name": "stdout",
     "output_type": "stream",
     "text": [
      "(94650, 9)\n",
      "(6100, 9)\n"
     ]
    }
   ],
   "source": [
    "print(ratings_merged_train.shape)\n",
    "print(ratings_merged_test.shape)"
   ]
  },
  {
   "cell_type": "code",
   "execution_count": 29,
   "metadata": {},
   "outputs": [],
   "source": [
    "#ratings_merged.userId.unique()"
   ]
  },
  {
   "cell_type": "markdown",
   "metadata": {},
   "source": [
    "### Preprocess Content Text Data"
   ]
  },
  {
   "cell_type": "code",
   "execution_count": 30,
   "metadata": {},
   "outputs": [],
   "source": [
    "tfidf = TfidfVectorizer(stop_words='english')\n",
    "tfidf_matrix = tfidf.fit_transform(merged['metadata'])\n",
    "tfidf_df = pd.DataFrame(tfidf_matrix.toarray(), index=merged.index.tolist())"
   ]
  },
  {
   "cell_type": "code",
   "execution_count": 31,
   "metadata": {},
   "outputs": [
    {
     "name": "stdout",
     "output_type": "stream",
     "text": [
      "(9719, 1675)\n"
     ]
    }
   ],
   "source": [
    "print(tfidf_df.shape) #9719 movies, 1675 words"
   ]
  },
  {
   "cell_type": "code",
   "execution_count": 32,
   "metadata": {
    "scrolled": true
   },
   "outputs": [
    {
     "data": {
      "image/png": "[encoded data removed]",
      "text/plain": [
       "<Figure size 432x288 with 1 Axes>"
      ]
     },
     "metadata": {
      "needs_background": "light"
     },
     "output_type": "display_data"
    }
   ],
   "source": [
    "svd = TruncatedSVD(n_components=200)\n",
    "latent_matrix = svd.fit_transform(tfidf_df)\n",
    "Content_df=pd.DataFrame(latent_matrix,index=merged.movieId.tolist())\n",
    "# plot var explained to see what latent dimensions to use\n",
    "explained = svd.explained_variance_ratio_.cumsum()\n",
    "plt.plot(explained, '.-', ms = 10, color='red')\n",
    "plt.xlabel('Singular value components', fontsize= 12)\n",
    "plt.ylabel('Cumulative percent of variance', fontsize=12)        \n",
    "plt.show()"
   ]
  },
  {
   "cell_type": "code",
   "execution_count": 33,
   "metadata": {},
   "outputs": [
    {
     "data": {
      "text/html": [
       "<div>\n",
       "<style scoped>\n",
       "    .dataframe tbody tr th:only-of-type {\n",
       "        vertical-align: middle;\n",
       "    }\n",
       "\n",
       "    .dataframe tbody tr th {\n",
       "        vertical-align: top;\n",
       "    }\n",
       "\n",
       "    .dataframe thead th {\n",
       "        text-align: right;\n",
       "    }\n",
       "</style>\n",
       "<table border=\"1\" class=\"dataframe\">\n",
       "  <thead>\n",
       "    <tr style=\"text-align: right;\">\n",
       "      <th></th>\n",
       "      <th>0</th>\n",
       "      <th>1</th>\n",
       "      <th>2</th>\n",
       "      <th>3</th>\n",
       "      <th>4</th>\n",
       "      <th>5</th>\n",
       "      <th>6</th>\n",
       "      <th>7</th>\n",
       "      <th>8</th>\n",
       "      <th>9</th>\n",
       "      <th>...</th>\n",
       "      <th>190</th>\n",
       "      <th>191</th>\n",
       "      <th>192</th>\n",
       "      <th>193</th>\n",
       "      <th>194</th>\n",
       "      <th>195</th>\n",
       "      <th>196</th>\n",
       "      <th>197</th>\n",
       "      <th>198</th>\n",
       "      <th>199</th>\n",
       "    </tr>\n",
       "  </thead>\n",
       "  <tbody>\n",
       "    <tr>\n",
       "      <td>1</td>\n",
       "      <td>0.102107</td>\n",
       "      <td>0.082956</td>\n",
       "      <td>0.069229</td>\n",
       "      <td>0.079745</td>\n",
       "      <td>-0.158802</td>\n",
       "      <td>0.011390</td>\n",
       "      <td>0.235963</td>\n",
       "      <td>-0.009387</td>\n",
       "      <td>-0.121844</td>\n",
       "      <td>-0.007525</td>\n",
       "      <td>...</td>\n",
       "      <td>-0.001967</td>\n",
       "      <td>-0.128563</td>\n",
       "      <td>0.069602</td>\n",
       "      <td>0.032762</td>\n",
       "      <td>-0.083891</td>\n",
       "      <td>0.072998</td>\n",
       "      <td>-0.045668</td>\n",
       "      <td>0.062033</td>\n",
       "      <td>0.042836</td>\n",
       "      <td>-0.005996</td>\n",
       "    </tr>\n",
       "    <tr>\n",
       "      <td>2</td>\n",
       "      <td>0.032450</td>\n",
       "      <td>0.008864</td>\n",
       "      <td>0.058775</td>\n",
       "      <td>0.083457</td>\n",
       "      <td>-0.113247</td>\n",
       "      <td>0.007123</td>\n",
       "      <td>0.189148</td>\n",
       "      <td>-0.006309</td>\n",
       "      <td>-0.075070</td>\n",
       "      <td>0.002374</td>\n",
       "      <td>...</td>\n",
       "      <td>0.002537</td>\n",
       "      <td>0.003017</td>\n",
       "      <td>0.006074</td>\n",
       "      <td>0.012922</td>\n",
       "      <td>-0.008475</td>\n",
       "      <td>0.003715</td>\n",
       "      <td>0.009158</td>\n",
       "      <td>0.008716</td>\n",
       "      <td>0.025791</td>\n",
       "      <td>-0.006143</td>\n",
       "    </tr>\n",
       "    <tr>\n",
       "      <td>3</td>\n",
       "      <td>0.148064</td>\n",
       "      <td>0.105223</td>\n",
       "      <td>-0.043041</td>\n",
       "      <td>0.129085</td>\n",
       "      <td>0.089120</td>\n",
       "      <td>-0.037231</td>\n",
       "      <td>-0.011774</td>\n",
       "      <td>0.000641</td>\n",
       "      <td>0.004546</td>\n",
       "      <td>-0.002366</td>\n",
       "      <td>...</td>\n",
       "      <td>-0.001943</td>\n",
       "      <td>0.006762</td>\n",
       "      <td>0.007687</td>\n",
       "      <td>-0.004749</td>\n",
       "      <td>0.005577</td>\n",
       "      <td>-0.003202</td>\n",
       "      <td>0.002385</td>\n",
       "      <td>0.001646</td>\n",
       "      <td>-0.003208</td>\n",
       "      <td>-0.004366</td>\n",
       "    </tr>\n",
       "    <tr>\n",
       "      <td>4</td>\n",
       "      <td>0.826075</td>\n",
       "      <td>0.065578</td>\n",
       "      <td>-0.292478</td>\n",
       "      <td>0.395828</td>\n",
       "      <td>0.244665</td>\n",
       "      <td>-0.074421</td>\n",
       "      <td>-0.045554</td>\n",
       "      <td>-0.000910</td>\n",
       "      <td>0.027451</td>\n",
       "      <td>-0.001068</td>\n",
       "      <td>...</td>\n",
       "      <td>-0.000014</td>\n",
       "      <td>0.000206</td>\n",
       "      <td>-0.000008</td>\n",
       "      <td>-0.000149</td>\n",
       "      <td>0.000041</td>\n",
       "      <td>0.000300</td>\n",
       "      <td>-0.000011</td>\n",
       "      <td>0.000028</td>\n",
       "      <td>-0.000167</td>\n",
       "      <td>-0.000329</td>\n",
       "    </tr>\n",
       "    <tr>\n",
       "      <td>5</td>\n",
       "      <td>0.112948</td>\n",
       "      <td>0.121112</td>\n",
       "      <td>-0.006226</td>\n",
       "      <td>-0.037884</td>\n",
       "      <td>-0.004486</td>\n",
       "      <td>0.009883</td>\n",
       "      <td>-0.009168</td>\n",
       "      <td>-0.002307</td>\n",
       "      <td>0.003938</td>\n",
       "      <td>-0.011411</td>\n",
       "      <td>...</td>\n",
       "      <td>0.010998</td>\n",
       "      <td>0.002921</td>\n",
       "      <td>-0.010046</td>\n",
       "      <td>0.012260</td>\n",
       "      <td>-0.011942</td>\n",
       "      <td>0.000648</td>\n",
       "      <td>-0.008091</td>\n",
       "      <td>-0.005696</td>\n",
       "      <td>0.000334</td>\n",
       "      <td>-0.021824</td>\n",
       "    </tr>\n",
       "  </tbody>\n",
       "</table>\n",
       "<p>5 rows × 200 columns</p>\n",
       "</div>"
      ],
      "text/plain": [
       "        0         1         2         3         4         5         6    \\\n",
       "1  0.102107  0.082956  0.069229  0.079745 -0.158802  0.011390  0.235963   \n",
       "2  0.032450  0.008864  0.058775  0.083457 -0.113247  0.007123  0.189148   \n",
       "3  0.148064  0.105223 -0.043041  0.129085  0.089120 -0.037231 -0.011774   \n",
       "4  0.826075  0.065578 -0.292478  0.395828  0.244665 -0.074421 -0.045554   \n",
       "5  0.112948  0.121112 -0.006226 -0.037884 -0.004486  0.009883 -0.009168   \n",
       "\n",
       "        7         8         9    ...       190       191       192       193  \\\n",
       "1 -0.009387 -0.121844 -0.007525  ... -0.001967 -0.128563  0.069602  0.032762   \n",
       "2 -0.006309 -0.075070  0.002374  ...  0.002537  0.003017  0.006074  0.012922   \n",
       "3  0.000641  0.004546 -0.002366  ... -0.001943  0.006762  0.007687 -0.004749   \n",
       "4 -0.000910  0.027451 -0.001068  ... -0.000014  0.000206 -0.000008 -0.000149   \n",
       "5 -0.002307  0.003938 -0.011411  ...  0.010998  0.002921 -0.010046  0.012260   \n",
       "\n",
       "        194       195       196       197       198       199  \n",
       "1 -0.083891  0.072998 -0.045668  0.062033  0.042836 -0.005996  \n",
       "2 -0.008475  0.003715  0.009158  0.008716  0.025791 -0.006143  \n",
       "3  0.005577 -0.003202  0.002385  0.001646 -0.003208 -0.004366  \n",
       "4  0.000041  0.000300 -0.000011  0.000028 -0.000167 -0.000329  \n",
       "5 -0.011942  0.000648 -0.008091 -0.005696  0.000334 -0.021824  \n",
       "\n",
       "[5 rows x 200 columns]"
      ]
     },
     "execution_count": 33,
     "metadata": {},
     "output_type": "execute_result"
    }
   ],
   "source": [
    "Content_df.head()"
   ]
  },
  {
   "cell_type": "code",
   "execution_count": 34,
   "metadata": {},
   "outputs": [
    {
     "name": "stdout",
     "output_type": "stream",
     "text": [
      "(9718, 1)\n"
     ]
    }
   ],
   "source": [
    "a_1 = np.array(Content_df.loc[Content_df.index==1]).reshape(1,-1)\n",
    "a_1.shape\n",
    "b_1 = np.array(Content_df.loc[Content_df.index!=1])\n",
    "b_1.shape\n",
    "score_1 = cosine_similarity(b_1, a_1)\n",
    "print(score_1.shape)"
   ]
  },
  {
   "cell_type": "markdown",
   "metadata": {},
   "source": [
    "### User-Item Filtering and Item-Item Filtering; Collaborative and Hybrid method"
   ]
  },
  {
   "cell_type": "code",
   "execution_count": 36,
   "metadata": {},
   "outputs": [],
   "source": [
    "mean_rating=ratings_merged_train['rating'].mean()"
   ]
  },
  {
   "cell_type": "code",
   "execution_count": 37,
   "metadata": {},
   "outputs": [],
   "source": [
    "def compute_rmse(y_pred, y_true):\n",
    "    \"\"\" Compute Root Mean Squared Error \"\"\"\n",
    "    return np.sqrt(np.mean(np.power(y_pred - y_true, 2)))"
   ]
  },
  {
   "cell_type": "code",
   "execution_count": 38,
   "metadata": {},
   "outputs": [],
   "source": [
    "def evaluate(estimate_f):\n",
    "    \"\"\" RMSE-based predictive performance evaluation \"\"\"\n",
    "    \n",
    "    ids_to_estimate = zip(ratings_merged_test.userId, ratings_merged_test.movieId)\n",
    "    estimated = np.array([estimate_f(u,i) for (u,i) in ids_to_estimate])\n",
    "    real = ratings_merged_test.rating.values\n",
    "    return compute_rmse(estimated, real)"
   ]
  },
  {
   "cell_type": "code",
   "execution_count": 39,
   "metadata": {},
   "outputs": [
    {
     "name": "stdout",
     "output_type": "stream",
     "text": [
      "RMSE for estimate: 1.0605546006853537\n"
     ]
    }
   ],
   "source": [
    "def overall_mean(userId, movieId):\n",
    "    return mean_rating\n",
    "\n",
    "print('RMSE for estimate: %s' % evaluate(overall_mean))"
   ]
  },
  {
   "cell_type": "code",
   "execution_count": 40,
   "metadata": {},
   "outputs": [
    {
     "name": "stdout",
     "output_type": "stream",
     "text": [
      "RMSE for estimate: 0.9630920842598631\n"
     ]
    }
   ],
   "source": [
    "def content_mean(userId, movieId):\n",
    "    \"\"\" The user's rating for other movies, use the mean of the user's movies ratings, excluding the current movie\"\"\"\n",
    "    \n",
    "    user_condition = ratings_merged_train.userId == userId\n",
    "    movie_condition=ratings_merged_train.movieId != movieId\n",
    "    rating_for_others=ratings_merged_train.loc[user_condition & movie_condition]\n",
    "    if rating_for_others.empty:\n",
    "        return mean_rating\n",
    "    else:\n",
    "        return rating_for_others.rating.mean()\n",
    "\n",
    "print('RMSE for estimate: %s' % evaluate(content_mean))"
   ]
  },
  {
   "cell_type": "code",
   "execution_count": 41,
   "metadata": {},
   "outputs": [
    {
     "name": "stdout",
     "output_type": "stream",
     "text": [
      "RMSE for estimate: 1.00123936250464\n"
     ]
    }
   ],
   "source": [
    "def collab_mean(userId, movieId):\n",
    "    \"\"\" The movie's rating by other users, use the mean of the movie's rating by users, excluding the current user\"\"\"\n",
    "    \n",
    "    user_condition=ratings_merged_train.userId != userId\n",
    "    movie_condition=ratings_merged_train.movieId == movieId\n",
    "    rating_by_others=ratings_merged_train.loc[user_condition & movie_condition]\n",
    "    if rating_by_others.empty:\n",
    "        return mean_rating\n",
    "    else:\n",
    "        return rating_by_others.rating.mean()\n",
    "\n",
    "print('RMSE for estimate: %s' % evaluate(collab_mean))"
   ]
  },
  {
   "cell_type": "markdown",
   "metadata": {},
   "source": [
    "- Pearson correlation\n",
    "\n",
    "$$ sim(x,y) = \\frac{(x - \\bar x).(y - \\bar y)}{\\sqrt{(x - \\bar x).(x - \\bar x) * (y - \\bar y)(y - \\bar y)}} $$"
   ]
  },
  {
   "cell_type": "code",
   "execution_count": 42,
   "metadata": {},
   "outputs": [],
   "source": [
    "def pearson(s1, s2,epsilon=1e-9):\n",
    "    \"\"\"Take two pd.Series objects and return a pearson correlation.\"\"\"\n",
    "    s1_c = s1 - s1.mean()\n",
    "    s2_c = s2 - s2.mean()\n",
    "    return (np.sum(s1_c * s2_c)+epsilon) / (np.sqrt(np.sum(s1_c ** 2) * np.sum(s2_c ** 2))+epsilon)"
   ]
  },
  {
   "cell_type": "markdown",
   "metadata": {},
   "source": [
    "- Cosine similarity\n",
    "\n",
    "$$ sim(x,y) = \\frac{(x . y)}{\\sqrt{(x . x) (y . y)}} $$"
   ]
  },
  {
   "cell_type": "code",
   "execution_count": 43,
   "metadata": {},
   "outputs": [],
   "source": [
    "def cosine(s1, s2,epsilon=1e-9):\n",
    "    \"\"\"Take two pd.Series objects and return their cosine similarity.\"\"\"\n",
    "    return (np.sum(s1 * s2)+epsilon) / (np.sqrt(np.sum(s1 ** 2) * np.sum(s2 ** 2))+epsilon)"
   ]
  },
  {
   "cell_type": "code",
   "execution_count": 44,
   "metadata": {},
   "outputs": [],
   "source": [
    "user_pivot = ratings_merged.pivot_table('rating', index='movieId', columns='userId')\n",
    "movie_pivot = ratings_merged.pivot_table('rating', index='userId', columns='movieId')"
   ]
  },
  {
   "cell_type": "code",
   "execution_count": 45,
   "metadata": {},
   "outputs": [],
   "source": [
    "ratings_merged['mean_ratings']=ratings_merged.groupby(['userId'])['rating'].transform('mean')\n",
    "#remove bias of individual user. Some user tend to give higher ratings, others tend to give lower ratings.\n",
    "ratings_merged['rmbias_ratings']=ratings_merged.rating-ratings_merged.mean_ratings  \n",
    "user_pivot_rmbias = ratings_merged.pivot_table('rmbias_ratings', index='movieId', columns='userId')"
   ]
  },
  {
   "cell_type": "code",
   "execution_count": 46,
   "metadata": {},
   "outputs": [
    {
     "name": "stdout",
     "output_type": "stream",
     "text": [
      "0.9830060773303602\n"
     ]
    }
   ],
   "source": [
    "#calculate matrix sparsity\n",
    "na_entries=sum(user_pivot.isna().sum())\n",
    "total_entries=user_pivot.shape[0]*user_pivot.shape[1]\n",
    "sparsity=na_entries/total_entries\n",
    "print(sparsity)"
   ]
  },
  {
   "cell_type": "code",
   "execution_count": 47,
   "metadata": {},
   "outputs": [
    {
     "name": "stdout",
     "output_type": "stream",
     "text": [
      "RMSE for CollabSim: 0.8852489763313234\n"
     ]
    }
   ],
   "source": [
    "#User-item Collaborative Filtering using Pearson Correlation\n",
    "def collab_pearson(userId,movieId):\n",
    "    \n",
    "    user_condition = ratings_merged_train.userId != userId \n",
    "    movie_condition = ratings_merged_train.movieId == movieId\n",
    "    ratings_by_others = ratings_merged_train.loc[user_condition & movie_condition] \n",
    "    if ratings_by_others.empty: \n",
    "        return mean_rating\n",
    "\n",
    "    ratings_by_others.set_index('userId', inplace=True)\n",
    "    their_ids = ratings_by_others.index\n",
    "    their_ratings = ratings_by_others.rating\n",
    "    their_profiles = user_pivot[their_ids]\n",
    "    user_profile = user_pivot[userId]\n",
    "    sims = their_profiles.apply(lambda profile: pearson(profile, user_profile), axis=0)\n",
    "    ratings_sims = pd.DataFrame({'sim': sims, 'rating': their_ratings})\n",
    "    #ratings_sims= ratings_sims.sort_values(by=['sim'], ascending=False).head(10) #higher rmse\n",
    "    ratings_sims = ratings_sims[ratings_sims.sim > 0]\n",
    "    if ratings_sims.empty:\n",
    "        return their_ratings.mean()\n",
    "    else:\n",
    "        return np.average(ratings_sims.rating, weights=ratings_sims.sim)\n",
    "\n",
    "print('RMSE for CollabSim: %s' % evaluate(collab_pearson))"
   ]
  },
  {
   "cell_type": "code",
   "execution_count": 48,
   "metadata": {},
   "outputs": [
    {
     "data": {
      "text/plain": [
       "3.843564977489461"
      ]
     },
     "execution_count": 48,
     "metadata": {},
     "output_type": "execute_result"
    }
   ],
   "source": [
    "collab_pearson(1,1)"
   ]
  },
  {
   "cell_type": "code",
   "execution_count": 49,
   "metadata": {},
   "outputs": [
    {
     "name": "stdout",
     "output_type": "stream",
     "text": [
      "RMSE for Collab_cosine: 0.9872746267307068\n"
     ]
    }
   ],
   "source": [
    "#User-item Collaborative Filtering using Cosine Correlation\n",
    "def collab_cosine(userId,movieId):\n",
    "    \n",
    "    user_condition = ratings_merged_train.userId != userId \n",
    "    movie_condition = ratings_merged_train.movieId == movieId\n",
    "    ratings_by_others = ratings_merged_train.loc[user_condition & movie_condition] \n",
    "    if ratings_by_others.empty: \n",
    "        return mean_rating\n",
    "\n",
    "    ratings_by_others.set_index('userId', inplace=True)\n",
    "    their_ids = ratings_by_others.index\n",
    "    their_ratings = ratings_by_others.rating\n",
    "    their_profiles = user_pivot[their_ids]\n",
    "    user_profile = user_pivot[userId]\n",
    "    sims = their_profiles.apply(lambda profile: cosine(profile, user_profile), axis=0)\n",
    "    ratings_sims = pd.DataFrame({'sim': sims, 'rating': their_ratings})\n",
    "    #ratings_sims= ratings_sims.sort_values(by=['sim'], ascending=False).head(10) #higher rmse\n",
    "    ratings_sims = ratings_sims[ratings_sims.sim > 0]\n",
    "    if ratings_sims.empty:\n",
    "        return their_ratings.mean()\n",
    "    else:\n",
    "        return np.average(ratings_sims.rating, weights=ratings_sims.sim)\n",
    "\n",
    "print('RMSE for Collab_cosine: %s' % evaluate(collab_cosine))"
   ]
  },
  {
   "cell_type": "code",
   "execution_count": 50,
   "metadata": {},
   "outputs": [
    {
     "data": {
      "text/plain": [
       "3.900591166945928"
      ]
     },
     "execution_count": 50,
     "metadata": {},
     "output_type": "execute_result"
    }
   ],
   "source": [
    "collab_cosine(1,1)"
   ]
  },
  {
   "cell_type": "code",
   "execution_count": 51,
   "metadata": {},
   "outputs": [
    {
     "name": "stdout",
     "output_type": "stream",
     "text": [
      "RMSE for collab_sim_rmbias: 0.8017667931353997\n"
     ]
    }
   ],
   "source": [
    "def collab_sim_rmbias(userId,movieId):\n",
    "    \n",
    "    ratings_mean=ratings_merged_train.groupby(['userId'])['rating'].mean()\n",
    "    user_mean=ratings_mean[userId]\n",
    "\n",
    "    user_condition = ratings_merged_train.userId != userId\n",
    "    movie_condition = ratings_merged_train.movieId == movieId\n",
    "    ratings_by_others = ratings_merged_train.loc[user_condition & movie_condition] \n",
    "    if ratings_by_others.empty: \n",
    "        return mean_rating\n",
    "\n",
    "    ratings_by_others.set_index('userId', inplace=True)\n",
    "    their_ids = ratings_by_others.index\n",
    "    their_ratings = ratings_by_others.rating\n",
    "    their_ratings_mean=ratings_mean.loc[ratings_mean.index.isin(their_ids)]\n",
    "    their_ratings_rmbs=their_ratings-their_ratings_mean\n",
    "    \n",
    "    their_profiles = user_pivot[their_ids]\n",
    "    user_profile = user_pivot[userId]\n",
    "    sims = their_profiles.apply(lambda profile: pearson(profile, user_profile), axis=0)\n",
    "    ratings_sims = pd.DataFrame({'sim': sims, 'rating_rmbias': their_ratings_rmbs})\n",
    "    ratings_sims = ratings_sims[ratings_sims.sim > 0]\n",
    "    if ratings_sims.empty:\n",
    "        return their_ratings.mean()\n",
    "    else:\n",
    "        \n",
    "        return np.average(ratings_sims.rating_rmbias, weights=ratings_sims.sim)+user_mean\n",
    "\n",
    "print('RMSE for collab_sim_rmbias: %s' % evaluate(collab_sim_rmbias))"
   ]
  },
  {
   "cell_type": "code",
   "execution_count": 53,
   "metadata": {},
   "outputs": [
    {
     "data": {
      "text/plain": [
       "4.624400056034571"
      ]
     },
     "execution_count": 53,
     "metadata": {},
     "output_type": "execute_result"
    }
   ],
   "source": [
    "collab_sim_rmbias(1,1)"
   ]
  },
  {
   "cell_type": "code",
   "execution_count": 54,
   "metadata": {
    "scrolled": false
   },
   "outputs": [
    {
     "name": "stdout",
     "output_type": "stream",
     "text": [
      "RMSE for movie_hybrid_sim: 0.9376498547690458\n"
     ]
    }
   ],
   "source": [
    "#Movie similarity based on ratings and content\n",
    "#cosine similarity function\n",
    "def movie_hybrid_sim(userId, movieId):\n",
    "    \"\"\" Ratings weighted by correlation similarity. \"\"\"\n",
    "\n",
    "    user_condition = ratings_merged_train.userId == userId\n",
    "    movie_condition = ratings_merged_train.movieId != movieId\n",
    "    ratings_for_others = ratings_merged_train.loc[user_condition & movie_condition]\n",
    "    if ratings_for_others.empty: \n",
    "        return mean_rating\n",
    "    \n",
    "    ratings_for_others.set_index('movieId', inplace=True)\n",
    "    their_ids = ratings_for_others.index\n",
    "    their_ratings = ratings_for_others.rating\n",
    "    their_profiles = movie_pivot[their_ids]\n",
    "    movie_profile = movie_pivot[movieId]\n",
    "    movie_content = np.array(Content_df.loc[Content_df.index==1]).reshape(1,-1)\n",
    "    their_content = np.array(Content_df.loc[Content_df.index.isin(their_ids)])\n",
    "    sims_content= cosine_similarity(their_content, movie_content).reshape(-1)\n",
    "    sims_rating = their_profiles.apply(lambda profile: cosine(profile, movie_profile), axis=0)\n",
    "    ratings_sims = pd.DataFrame({'sim_content': sims_content,'sim_rating': sims_rating, 'rating': their_ratings})\n",
    "    ratings_sims['sim_hybrid']=(ratings_sims.sim_content+sims_rating)/2\n",
    "    ratings_sims = ratings_sims[ratings_sims.sim_hybrid > 0]\n",
    "    \n",
    "    if ratings_sims.empty:\n",
    "        return their_ratings.mean()\n",
    "    else:\n",
    "        return np.average(ratings_sims.rating, weights=ratings_sims.sim_hybrid)\n",
    "\n",
    "print('RMSE for movie_hybrid_sim: %s' % evaluate(movie_hybrid_sim))"
   ]
  },
  {
   "cell_type": "code",
   "execution_count": 55,
   "metadata": {},
   "outputs": [
    {
     "name": "stdout",
     "output_type": "stream",
     "text": [
      "RMSE for movie_hybrid_sim: 0.8509997768502541\n"
     ]
    }
   ],
   "source": [
    "#Movie similarity based on ratings and content\n",
    "#pearson similarity function\n",
    "def movie_hybrid_sim(userId, movieId):\n",
    "    \"\"\" Ratings weighted by correlation similarity. \"\"\"\n",
    "\n",
    "    user_condition = ratings_merged_train.userId == userId\n",
    "    movie_condition = ratings_merged_train.movieId != movieId\n",
    "    ratings_for_others = ratings_merged_train.loc[user_condition & movie_condition]\n",
    "    if ratings_for_others.empty: \n",
    "        return mean_rating\n",
    "    \n",
    "    ratings_for_others.set_index('movieId', inplace=True)\n",
    "    their_ids = ratings_for_others.index\n",
    "    their_ratings = ratings_for_others.rating\n",
    "    their_profiles = movie_pivot[their_ids]\n",
    "    movie_profile = movie_pivot[movieId]\n",
    "    movie_content = np.array(Content_df.loc[Content_df.index==1]).reshape(1,-1)\n",
    "    their_content = np.array(Content_df.loc[Content_df.index.isin(their_ids)])\n",
    "    sims_content= cosine_similarity(their_content, movie_content).reshape(-1)\n",
    "    sims_rating = their_profiles.apply(lambda profile: pearson(profile, movie_profile), axis=0)\n",
    "    ratings_sims = pd.DataFrame({'sim_content': sims_content,'sim_rating': sims_rating, 'rating': their_ratings})\n",
    "    ratings_sims['sim_hybrid']=(ratings_sims.sim_content+sims_rating)/2\n",
    "    ratings_sims = ratings_sims[ratings_sims.sim_hybrid > 0]\n",
    "    \n",
    "    if ratings_sims.empty:\n",
    "        return their_ratings.mean()\n",
    "    else:\n",
    "        return np.average(ratings_sims.rating, weights=ratings_sims.sim_hybrid)\n",
    "\n",
    "print('RMSE for movie_hybrid_sim: %s' % evaluate(movie_hybrid_sim))"
   ]
  },
  {
   "cell_type": "markdown",
   "metadata": {},
   "source": [
    "### Model-Based Collaborative Filtering"
   ]
  },
  {
   "cell_type": "markdown",
   "metadata": {},
   "source": [
    "The idea behind Matrix Factorization is that attitudes or preferences of a user can be determined by a small number of hidden factors. We can call these factors as Embeddings. For SVD or PCA, we decompose our original sparse matrix into product of 2 low rank orthogonal matrices.The user latent features and movie latent features are looked up from the embedding matrices for specific movie-user combination."
   ]
  },
  {
   "cell_type": "code",
   "execution_count": 56,
   "metadata": {},
   "outputs": [],
   "source": [
    "mapping = dict(zip(movies.title.tolist(), movies.movieId.tolist()))"
   ]
  },
  {
   "cell_type": "code",
   "execution_count": 60,
   "metadata": {},
   "outputs": [
    {
     "name": "stdout",
     "output_type": "stream",
     "text": [
      "<surprise.dataset.DatasetAutoFolds object at 0x1a23557610>\n"
     ]
    }
   ],
   "source": [
    "# instantiate a reader and read in our rating data\n",
    "reader = Reader(rating_scale=(0.5, 5.0))\n",
    "data = dataset.Dataset.load_from_df(ratings[['userId','movieId','rating']], reader)\n",
    "print(data)"
   ]
  },
  {
   "cell_type": "code",
   "execution_count": 61,
   "metadata": {},
   "outputs": [],
   "source": [
    "trainset, testset = train_test_split(data, test_size=.25)"
   ]
  },
  {
   "cell_type": "code",
   "execution_count": 66,
   "metadata": {},
   "outputs": [
    {
     "name": "stdout",
     "output_type": "stream",
     "text": [
      "RMSE: 1.4362\n",
      "1.4362238690825286\n"
     ]
    }
   ],
   "source": [
    "#baseline model\n",
    "random = NormalPredictor()\n",
    "random.fit(trainset)\n",
    "predictions_random=random.test(testset)\n",
    "print(accuracy.rmse(predictions_random))"
   ]
  },
  {
   "cell_type": "code",
   "execution_count": 62,
   "metadata": {},
   "outputs": [
    {
     "name": "stdout",
     "output_type": "stream",
     "text": [
      "RMSE: 0.9290\n"
     ]
    },
    {
     "data": {
      "text/plain": [
       "0.9290438084331856"
      ]
     },
     "execution_count": 62,
     "metadata": {},
     "output_type": "execute_result"
    }
   ],
   "source": [
    "nmf = NMF()\n",
    "nmf.fit(trainset)\n",
    "predictions = algo.test(testset)\n",
    "accuracy.rmse(predictions)"
   ]
  },
  {
   "cell_type": "code",
   "execution_count": 69,
   "metadata": {},
   "outputs": [
    {
     "name": "stdout",
     "output_type": "stream",
     "text": [
      "RMSE: 0.8756\n",
      "0.875613421633401\n"
     ]
    }
   ],
   "source": [
    "svd=SVD()\n",
    "svd.fit(trainset)\n",
    "predictions_svd=svd.test(testset)\n",
    "print(accuracy.rmse(predictions_svd))"
   ]
  },
  {
   "cell_type": "code",
   "execution_count": 64,
   "metadata": {},
   "outputs": [],
   "source": [
    "#tune svd model\n",
    "param_grid = {'n_factors': [50,100,150],'n_epochs': [20,30], 'lr_all': [0.005,0.01],'reg_all':[0.02,0.1]}\n",
    "gs = GridSearchCV(SVD, param_grid, measures=['rmse'], cv=3)\n",
    "gs.fit(data)\n",
    "params = gs.best_params['rmse']\n",
    "svdtuned = SVD(n_factors=params['n_factors'], n_epochs=params['n_epochs'],lr_all=params['lr_all'], reg_all=params['reg_all'])"
   ]
  },
  {
   "cell_type": "code",
   "execution_count": 65,
   "metadata": {},
   "outputs": [
    {
     "name": "stdout",
     "output_type": "stream",
     "text": [
      "RMSE: 0.8572\n",
      "0.8572459386900263\n",
      "RMSE: 0.8739\n",
      "0.8739268506413796\n"
     ]
    }
   ],
   "source": [
    "svdtuned.fit(trainset)\n",
    "predictions_svdt=svdtuned.test(testset)\n",
    "print(accuracy.rmse(predictions_svdt))"
   ]
  },
  {
   "cell_type": "code",
   "execution_count": 70,
   "metadata": {},
   "outputs": [
    {
     "name": "stdout",
     "output_type": "stream",
     "text": [
      "Computing the msd similarity matrix...\n",
      "Done computing similarity matrix.\n",
      "RMSE: 0.9503\n"
     ]
    },
    {
     "data": {
      "text/plain": [
       "0.9502982350503191"
      ]
     },
     "execution_count": 70,
     "metadata": {},
     "output_type": "execute_result"
    }
   ],
   "source": [
    "knn_basic =KNNBasic()\n",
    "knn_basic.fit(trainset)\n",
    "predictions = knn_basic.test(testset)\n",
    "accuracy.rmse(predictions)"
   ]
  },
  {
   "cell_type": "code",
   "execution_count": 71,
   "metadata": {},
   "outputs": [
    {
     "name": "stdout",
     "output_type": "stream",
     "text": [
      "Computing the msd similarity matrix...\n",
      "Done computing similarity matrix.\n",
      "RMSE: 0.8980\n"
     ]
    },
    {
     "data": {
      "text/plain": [
       "0.8980456103515789"
      ]
     },
     "execution_count": 71,
     "metadata": {},
     "output_type": "execute_result"
    }
   ],
   "source": [
    "knn_mean =KNNWithMeans()\n",
    "knn_mean.fit(trainset)\n",
    "predictions = knn_mean.test(testset)\n",
    "accuracy.rmse(predictions)"
   ]
  },
  {
   "cell_type": "code",
   "execution_count": 72,
   "metadata": {},
   "outputs": [
    {
     "name": "stdout",
     "output_type": "stream",
     "text": [
      "Computing the msd similarity matrix...\n",
      "Done computing similarity matrix.\n",
      "RMSE: 0.8976\n"
     ]
    },
    {
     "data": {
      "text/plain": [
       "0.897612159410451"
      ]
     },
     "execution_count": 72,
     "metadata": {},
     "output_type": "execute_result"
    }
   ],
   "source": [
    "knn_zs =KNNWithZScore()\n",
    "knn_zs.fit(trainset)\n",
    "predictions = knn_zs.test(testset)\n",
    "accuracy.rmse(predictions)"
   ]
  },
  {
   "cell_type": "code",
   "execution_count": 77,
   "metadata": {},
   "outputs": [
    {
     "name": "stdout",
     "output_type": "stream",
     "text": [
      "Computing the msd similarity matrix...\n",
      "Done computing similarity matrix.\n",
      "Computing the msd similarity matrix...\n",
      "Done computing similarity matrix.\n",
      "Computing the msd similarity matrix...\n",
      "Done computing similarity matrix.\n",
      "Computing the msd similarity matrix...\n",
      "Done computing similarity matrix.\n",
      "Computing the msd similarity matrix...\n",
      "Done computing similarity matrix.\n",
      "Computing the msd similarity matrix...\n",
      "Done computing similarity matrix.\n",
      "Computing the msd similarity matrix...\n",
      "Done computing similarity matrix.\n",
      "Computing the msd similarity matrix...\n",
      "Done computing similarity matrix.\n",
      "Computing the msd similarity matrix...\n",
      "Done computing similarity matrix.\n",
      "Computing the msd similarity matrix...\n",
      "Done computing similarity matrix.\n",
      "Computing the msd similarity matrix...\n",
      "Done computing similarity matrix.\n",
      "Computing the msd similarity matrix...\n",
      "Done computing similarity matrix.\n",
      "Computing the msd similarity matrix...\n",
      "Done computing similarity matrix.\n",
      "Computing the msd similarity matrix...\n",
      "Done computing similarity matrix.\n",
      "Computing the msd similarity matrix...\n",
      "Done computing similarity matrix.\n",
      "Computing the msd similarity matrix...\n",
      "Done computing similarity matrix.\n",
      "Computing the msd similarity matrix...\n",
      "Done computing similarity matrix.\n",
      "Computing the msd similarity matrix...\n",
      "Done computing similarity matrix.\n",
      "Computing the msd similarity matrix...\n",
      "Done computing similarity matrix.\n",
      "Computing the msd similarity matrix...\n",
      "Done computing similarity matrix.\n",
      "Computing the msd similarity matrix...\n",
      "Done computing similarity matrix.\n",
      "Computing the msd similarity matrix...\n",
      "Done computing similarity matrix.\n",
      "RMSE: 0.8976\n",
      "0.897612159410451\n"
     ]
    }
   ],
   "source": [
    "#tune KNNWithZScore model\n",
    "sim_options = {'name': 'cosine','user_based': 'True'}\n",
    "param_grid = {'k': [15, 20, 25, 30, 40, 50, 60]}\n",
    "gs = GridSearchCV(KNNWithZScore, param_grid, measures=['rmse','mae'], cv=3)\n",
    "gs.fit(data)\n",
    "params = gs.best_params['rmse']\n",
    "knnzstuned = KNNWithZScore(k=params['k'],measures='rmse')\n",
    "knnzstuned.fit(trainset)\n",
    "predictions_knnzs=knnzstuned.test(testset)\n",
    "print(accuracy.rmse(predictions_knnzs))"
   ]
  },
  {
   "cell_type": "markdown",
   "metadata": {},
   "source": [
    "Tuned SVD is the best performing model. Use it to make predictions for user 1 and find the top 10 movies that user 1\n",
    "haven't watched but would enjoy."
   ]
  },
  {
   "cell_type": "code",
   "execution_count": 75,
   "metadata": {},
   "outputs": [
    {
     "name": "stdout",
     "output_type": "stream",
     "text": [
      "                                                     ratings\n",
      "movies                                                      \n",
      "Swept Away (Travolti da un insolito destino nel...  5.000000\n",
      "Paths of Glory (1957)                               5.000000\n",
      "Grave of the Fireflies (Hotaru no haka) (1988)      5.000000\n",
      "Dr. Strangelove or: How I Learned to Stop Worry...  5.000000\n",
      "Guess Who's Coming to Dinner (1967)                 5.000000\n",
      "Touch of Evil (1958)                                5.000000\n",
      "Day of the Doctor, The (2013)                       5.000000\n",
      "Celebration, The (Festen) (1998)                    5.000000\n",
      "Casablanca (1942)                                   4.986911\n",
      "Shawshank Redemption, The (1994)                    4.968614\n"
     ]
    }
   ],
   "source": [
    "def pred_user_rating(ui,algo):\n",
    "    if ui in ratings.userId.unique():\n",
    "        ui_list = ratings[ratings.userId == ui].movieId.tolist() #list of movieId the user rated\n",
    "        d = {k: v for k,v in mapping.items() if not v in ui_list}  #d: dictionary of un-rated movies       \n",
    "        predictedL = []\n",
    "        for i, j in d.items():     \n",
    "            predicted = algo.predict(ui, j) #userId, movieId\n",
    "            predictedL.append((i, predicted[3])) \n",
    "        pdf = pd.DataFrame(predictedL, columns = ['movies', 'ratings'])\n",
    "        pdf.sort_values('ratings', ascending=False, inplace=True)  \n",
    "        pdf.set_index('movies', inplace=True)    \n",
    "        return pdf.head(10)        \n",
    "    else:\n",
    "        print(\"User Id does not exist in the list!\")\n",
    "        return None\n",
    "\n",
    "# check the preferences of a particular user\n",
    "user_id = 1\n",
    "predicted_ratings = pred_user_rating(user_id,svdtuned)\n",
    "print(predicted_ratings)"
   ]
  }
 ],
 "metadata": {
  "kernelspec": {
   "display_name": "Python 3",
   "language": "python",
   "name": "python3"
  },
  "language_info": {
   "codemirror_mode": {
    "name": "ipython",
    "version": 3
   },
   "file_extension": ".py",
   "mimetype": "text/x-python",
   "name": "python",
   "nbconvert_exporter": "python",
   "pygments_lexer": "ipython3",
   "version": "3.7.4"
  }
 },
 "nbformat": 4,
 "nbformat_minor": 2
}
