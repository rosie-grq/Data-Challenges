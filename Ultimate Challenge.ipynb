{
 "cells": [
  {
   "cell_type": "code",
   "execution_count": 1,
   "metadata": {},
   "outputs": [],
   "source": [
    "import numpy as np\n",
    "import pandas as pd\n",
    "import json\n",
    "from pandas.io.json import json_normalize\n",
    "import datetime as datetime\n",
    "import matplotlib.pyplot as plt\n",
    "import seaborn as sns"
   ]
  },
  {
   "cell_type": "code",
   "execution_count": 2,
   "metadata": {},
   "outputs": [],
   "source": [
    "from sklearn.linear_model import LogisticRegression\n",
    "from sklearn.model_selection import train_test_split,GridSearchCV\n",
    "from sklearn.utils import resample\n",
    "from sklearn.metrics import roc_curve, confusion_matrix, auc,plot_confusion_matrix,precision_recall_curve, accuracy_score,roc_auc_score\n",
    "from sklearn.ensemble import RandomForestClassifier"
   ]
  },
  {
   "cell_type": "markdown",
   "metadata": {},
   "source": [
    "### Part 1 ‑ Exploratory data analysis on User Login Data"
   ]
  },
  {
   "cell_type": "code",
   "execution_count": 5,
   "metadata": {},
   "outputs": [],
   "source": [
    "login=pd.read_json('logins.json')\n",
    "login=login.sort_values(by='login_time',ascending=True)\n",
    "login=login.reset_index()\n",
    "login.drop('index',axis=1,inplace=True)"
   ]
  },
  {
   "cell_type": "code",
   "execution_count": 6,
   "metadata": {},
   "outputs": [
    {
     "data": {
      "text/html": [
       "<div>\n",
       "<style scoped>\n",
       "    .dataframe tbody tr th:only-of-type {\n",
       "        vertical-align: middle;\n",
       "    }\n",
       "\n",
       "    .dataframe tbody tr th {\n",
       "        vertical-align: top;\n",
       "    }\n",
       "\n",
       "    .dataframe thead th {\n",
       "        text-align: right;\n",
       "    }\n",
       "</style>\n",
       "<table border=\"1\" class=\"dataframe\">\n",
       "  <thead>\n",
       "    <tr style=\"text-align: right;\">\n",
       "      <th></th>\n",
       "      <th>login_time</th>\n",
       "    </tr>\n",
       "  </thead>\n",
       "  <tbody>\n",
       "    <tr>\n",
       "      <td>0</td>\n",
       "      <td>1970-01-01 20:12:16</td>\n",
       "    </tr>\n",
       "    <tr>\n",
       "      <td>1</td>\n",
       "      <td>1970-01-01 20:13:18</td>\n",
       "    </tr>\n",
       "    <tr>\n",
       "      <td>2</td>\n",
       "      <td>1970-01-01 20:16:10</td>\n",
       "    </tr>\n",
       "    <tr>\n",
       "      <td>3</td>\n",
       "      <td>1970-01-01 20:16:36</td>\n",
       "    </tr>\n",
       "    <tr>\n",
       "      <td>4</td>\n",
       "      <td>1970-01-01 20:16:37</td>\n",
       "    </tr>\n",
       "    <tr>\n",
       "      <td>...</td>\n",
       "      <td>...</td>\n",
       "    </tr>\n",
       "    <tr>\n",
       "      <td>93137</td>\n",
       "      <td>1970-04-13 18:48:52</td>\n",
       "    </tr>\n",
       "    <tr>\n",
       "      <td>93138</td>\n",
       "      <td>1970-04-13 18:50:19</td>\n",
       "    </tr>\n",
       "    <tr>\n",
       "      <td>93139</td>\n",
       "      <td>1970-04-13 18:54:02</td>\n",
       "    </tr>\n",
       "    <tr>\n",
       "      <td>93140</td>\n",
       "      <td>1970-04-13 18:54:23</td>\n",
       "    </tr>\n",
       "    <tr>\n",
       "      <td>93141</td>\n",
       "      <td>1970-04-13 18:57:38</td>\n",
       "    </tr>\n",
       "  </tbody>\n",
       "</table>\n",
       "<p>93142 rows × 1 columns</p>\n",
       "</div>"
      ],
      "text/plain": [
       "               login_time\n",
       "0     1970-01-01 20:12:16\n",
       "1     1970-01-01 20:13:18\n",
       "2     1970-01-01 20:16:10\n",
       "3     1970-01-01 20:16:36\n",
       "4     1970-01-01 20:16:37\n",
       "...                   ...\n",
       "93137 1970-04-13 18:48:52\n",
       "93138 1970-04-13 18:50:19\n",
       "93139 1970-04-13 18:54:02\n",
       "93140 1970-04-13 18:54:23\n",
       "93141 1970-04-13 18:57:38\n",
       "\n",
       "[93142 rows x 1 columns]"
      ]
     },
     "execution_count": 6,
     "metadata": {},
     "output_type": "execute_result"
    }
   ],
   "source": [
    "login"
   ]
  },
  {
   "cell_type": "code",
   "execution_count": 7,
   "metadata": {},
   "outputs": [
    {
     "data": {
      "text/plain": [
       "login_time\n",
       "1970-01-01 20:00:00    2\n",
       "1970-01-01 20:15:00    6\n",
       "1970-01-01 20:30:00    9\n",
       "1970-01-01 20:45:00    7\n",
       "1970-01-01 21:00:00    1\n",
       "                      ..\n",
       "1970-04-13 17:45:00    5\n",
       "1970-04-13 18:00:00    5\n",
       "1970-04-13 18:15:00    2\n",
       "1970-04-13 18:30:00    7\n",
       "1970-04-13 18:45:00    6\n",
       "Freq: 15T, Name: login_time, Length: 9788, dtype: int64"
      ]
     },
     "execution_count": 7,
     "metadata": {},
     "output_type": "execute_result"
    }
   ],
   "source": [
    "login_15m=login.groupby(pd.Grouper(freq='15T',key='login_time'))['login_time'].count().fillna(0)\n",
    "login_15m"
   ]
  },
  {
   "cell_type": "code",
   "execution_count": 8,
   "metadata": {},
   "outputs": [
    {
     "name": "stderr",
     "output_type": "stream",
     "text": [
      "/Users/ruoqigao/opt/anaconda3/lib/python3.7/site-packages/pandas/plotting/_matplotlib/converter.py:103: FutureWarning: Using an implicitly registered datetime converter for a matplotlib plotting method. The converter was registered by pandas on import. Future versions of pandas will require you to explicitly register matplotlib converters.\n",
      "\n",
      "To register the converters:\n",
      "\t>>> from pandas.plotting import register_matplotlib_converters\n",
      "\t>>> register_matplotlib_converters()\n",
      "  warnings.warn(msg, FutureWarning)\n"
     ]
    },
    {
     "data": {
      "text/plain": [
       "<matplotlib.axes._subplots.AxesSubplot at 0x12a3d8f90>"
      ]
     },
     "execution_count": 8,
     "metadata": {},
     "output_type": "execute_result"
    },
    {
     "data": {
      "image/png": "[encoded data removed]",
      "text/plain": [
       "<Figure size 1080x360 with 1 Axes>"
      ]
     },
     "metadata": {
      "needs_background": "light"
     },
     "output_type": "display_data"
    }
   ],
   "source": [
    "plt.figure(figsize=[15,5])\n",
    "sns.lineplot(data=login_15m)"
   ]
  },
  {
   "cell_type": "code",
   "execution_count": 9,
   "metadata": {},
   "outputs": [
    {
     "data": {
      "text/plain": [
       "<matplotlib.axes._subplots.AxesSubplot at 0x128eba290>"
      ]
     },
     "execution_count": 9,
     "metadata": {},
     "output_type": "execute_result"
    },
    {
     "data": {
      "image/png": "[encoded data removed]",
      "text/plain": [
       "<Figure size 1080x360 with 1 Axes>"
      ]
     },
     "metadata": {
      "needs_background": "light"
     },
     "output_type": "display_data"
    }
   ],
   "source": [
    "plt.figure(figsize=[15,5])\n",
    "login_week=login.groupby(pd.Grouper(freq='W',key='login_time'))['login_time'].count().fillna(0)\n",
    "sns.lineplot(data=login_week)"
   ]
  },
  {
   "cell_type": "code",
   "execution_count": 10,
   "metadata": {},
   "outputs": [],
   "source": [
    "login['day_of_week']=login.login_time.apply(lambda x: x.weekday())\n",
    "login['hour']=login.login_time.apply(lambda x: x.hour)"
   ]
  },
  {
   "cell_type": "code",
   "execution_count": 11,
   "metadata": {},
   "outputs": [
    {
     "data": {
      "text/plain": [
       "<matplotlib.axes._subplots.AxesSubplot at 0x128d24b50>"
      ]
     },
     "execution_count": 11,
     "metadata": {},
     "output_type": "execute_result"
    },
    {
     "data": {
      "image/png": "[encoded data removed]",
      "text/plain": [
       "<Figure size 576x432 with 1 Axes>"
      ]
     },
     "metadata": {
      "needs_background": "light"
     },
     "output_type": "display_data"
    }
   ],
   "source": [
    "plt.figure(figsize=[8,6])\n",
    "sns.distplot(login[\"day_of_week\"],bins=7,kde=False)"
   ]
  },
  {
   "cell_type": "code",
   "execution_count": 12,
   "metadata": {},
   "outputs": [
    {
     "data": {
      "text/plain": [
       "<matplotlib.axes._subplots.AxesSubplot at 0x128b9cd50>"
      ]
     },
     "execution_count": 12,
     "metadata": {},
     "output_type": "execute_result"
    },
    {
     "data": {
      "image/png": "[encoded data removed]",
      "text/plain": [
       "<Figure size 720x432 with 1 Axes>"
      ]
     },
     "metadata": {
      "needs_background": "light"
     },
     "output_type": "display_data"
    }
   ],
   "source": [
    "plt.figure(figsize=[10,6])\n",
    "sns.distplot(login[\"hour\"],bins=24)"
   ]
  },
  {
   "cell_type": "markdown",
   "metadata": {},
   "source": [
    "The daily demand is high from 8pm to 4am in the morning, and 11am to 12pm. The demand is high on weekends, and gradually increases from January to March. The sharp drop in April might be caused by insufficient data collected."
   ]
  },
  {
   "cell_type": "markdown",
   "metadata": {},
   "source": [
    "### Part 2 ‑ Experiment and metrics design"
   ]
  },
  {
   "cell_type": "markdown",
   "metadata": {},
   "source": [
    "The neighboring cities of Gotham and Metropolis have complementary circadian rhythms: on\n",
    "weekdays, Ultimate Gotham is most active at night, and Ultimate Metropolis is most active\n",
    "during the day. On weekends, there is reasonable activity in both cities.\n",
    "However, a toll bridge, with a two way\n",
    "toll, between the two cities causes driver partners to tend\n",
    "to be exclusive to each city. The Ultimate managers of city operations for the two cities have\n",
    "proposed an experiment to encourage driver partners to be available in both cities, by\n",
    "reimbursing all toll costs.\n",
    "1. What would you choose as the key measure of success of this experiment in\n",
    "encouraging driver partners to serve both cities, and why would you choose this metric?"
   ]
  },
  {
   "cell_type": "code",
   "execution_count": 13,
   "metadata": {},
   "outputs": [],
   "source": [
    "#I'd choose the percentage of active drivers who are being active in the neighbouring city as the key measure of \n",
    "#success. There're different ways to define an active driver, for instance, a driver who works for at least 3 hours \n",
    "#during the day. Being active in the neighbouring city could mean the driver spend at least 20% of his/her time\n",
    "#in the neighboring city, or he/she takes 2 or more rides in the neighbouring city."
   ]
  },
  {
   "cell_type": "markdown",
   "metadata": {},
   "source": [
    "2. Describe a practical experiment you would design to compare the effectiveness of the\n",
    "proposed change in relation to the key measure of success."
   ]
  },
  {
   "cell_type": "code",
   "execution_count": 14,
   "metadata": {},
   "outputs": [],
   "source": [
    "#Randomly assign 10% of drivers from city G and 10% of drivers from city M to the test group letting them know that \n",
    "#the bridge roll will be reimbursed for a period of time. To take the ramp up time into account, we start measuring the key measure of success a few days \n",
    "#after the newly implemented policy begin. Determine the practical significance level and calculate the sample size \n",
    "#needed to achive the statistical power. After the reimbursement period ends, we also want to measure if behavior of \n",
    "#drivers changes, since the reimbursement is not likely to be permanent.\n"
   ]
  },
  {
   "cell_type": "markdown",
   "metadata": {},
   "source": [
    "### Part 3 ‑ Rider Retention Predictive modeling"
   ]
  },
  {
   "cell_type": "code",
   "execution_count": 15,
   "metadata": {},
   "outputs": [],
   "source": [
    "ultimate_data=json.load((open('ultimate_data_challenge.json')))\n",
    "#pd.read_json('ultimate_data_challenge.json')"
   ]
  },
  {
   "cell_type": "code",
   "execution_count": 16,
   "metadata": {},
   "outputs": [],
   "source": [
    "ultimate_data=json_normalize(ultimate_data)"
   ]
  },
  {
   "cell_type": "code",
   "execution_count": 17,
   "metadata": {},
   "outputs": [],
   "source": [
    "#fill NA with mean for avg_rating of driver\n",
    "ultimate_data['avg_rating_of_driver'].fillna(ultimate_data['avg_rating_of_driver'].mean(),inplace=True)\n",
    "#fill NA with mean for avg_rating by driver\n",
    "ultimate_data['avg_rating_by_driver'].fillna(ultimate_data['avg_rating_by_driver'].mean(),inplace=True)"
   ]
  },
  {
   "cell_type": "code",
   "execution_count": 18,
   "metadata": {},
   "outputs": [],
   "source": [
    "#drop records without phone information\n",
    "ultimate_data=ultimate_data[ultimate_data['phone'].notna()]"
   ]
  },
  {
   "cell_type": "code",
   "execution_count": 19,
   "metadata": {},
   "outputs": [
    {
     "name": "stdout",
     "output_type": "stream",
     "text": [
      "<class 'pandas.core.frame.DataFrame'>\n",
      "Int64Index: 49604 entries, 0 to 49999\n",
      "Data columns (total 12 columns):\n",
      "city                      49604 non-null object\n",
      "trips_in_first_30_days    49604 non-null int64\n",
      "signup_date               49604 non-null object\n",
      "avg_rating_of_driver      49604 non-null float64\n",
      "avg_surge                 49604 non-null float64\n",
      "last_trip_date            49604 non-null object\n",
      "phone                     49604 non-null object\n",
      "surge_pct                 49604 non-null float64\n",
      "ultimate_black_user       49604 non-null bool\n",
      "weekday_pct               49604 non-null float64\n",
      "avg_dist                  49604 non-null float64\n",
      "avg_rating_by_driver      49604 non-null float64\n",
      "dtypes: bool(1), float64(6), int64(1), object(4)\n",
      "memory usage: 4.6+ MB\n"
     ]
    }
   ],
   "source": [
    "ultimate_data.info()"
   ]
  },
  {
   "cell_type": "code",
   "execution_count": 20,
   "metadata": {},
   "outputs": [
    {
     "data": {
      "text/plain": [
       "'2014-07-01'"
      ]
     },
     "execution_count": 20,
     "metadata": {},
     "output_type": "execute_result"
    }
   ],
   "source": [
    "#the data is likely to be pulled on '2014-7-1'\n",
    "ultimate_data.last_trip_date.max()"
   ]
  },
  {
   "cell_type": "code",
   "execution_count": 21,
   "metadata": {},
   "outputs": [],
   "source": [
    "#convert date columns to datetime\n",
    "ultimate_data.loc[:,'signup_date'] =  pd.to_datetime(ultimate_data['signup_date'], format='%Y-%m-%d')\n",
    "ultimate_data.loc[:,'last_trip_date'] =  pd.to_datetime(ultimate_data['last_trip_date'], format='%Y-%m-%d')"
   ]
  },
  {
   "cell_type": "code",
   "execution_count": 22,
   "metadata": {},
   "outputs": [],
   "source": [
    "#label the users into 'active' and 'inactive' cateogories\n",
    "ultimate_data['active']=ultimate_data['last_trip_date']>='2014-06-01'"
   ]
  },
  {
   "cell_type": "code",
   "execution_count": 23,
   "metadata": {},
   "outputs": [
    {
     "name": "stdout",
     "output_type": "stream",
     "text": [
      "Percentage of active users:\n",
      "0.37640109668575117\n"
     ]
    }
   ],
   "source": [
    "#percentage of active users\n",
    "print('Percentage of active users:')\n",
    "print(len(ultimate_data[ultimate_data['active']==True])/len(ultimate_data))"
   ]
  },
  {
   "cell_type": "code",
   "execution_count": 24,
   "metadata": {},
   "outputs": [
    {
     "data": {
      "text/plain": [
       "<matplotlib.axes._subplots.AxesSubplot at 0x12dd558d0>"
      ]
     },
     "execution_count": 24,
     "metadata": {},
     "output_type": "execute_result"
    },
    {
     "data": {
      "image/png": "[encoded data removed]",
      "text/plain": [
       "<Figure size 432x288 with 1 Axes>"
      ]
     },
     "metadata": {
      "needs_background": "light"
     },
     "output_type": "display_data"
    }
   ],
   "source": [
    "#King's Landing has highest percentage of active users, Astapor has lowest percentage of active users\n",
    "city_active=ultimate_data.groupby(['city'])['active'].mean()\n",
    "city_active=city_active.reset_index()\n",
    "sns.barplot(x='city',y='active',data=city_active)"
   ]
  },
  {
   "cell_type": "code",
   "execution_count": 25,
   "metadata": {},
   "outputs": [],
   "source": [
    "ultimate_data=pd.get_dummies(ultimate_data,drop_first=True)"
   ]
  },
  {
   "cell_type": "code",
   "execution_count": 26,
   "metadata": {},
   "outputs": [
    {
     "data": {
      "text/html": [
       "<div>\n",
       "<style scoped>\n",
       "    .dataframe tbody tr th:only-of-type {\n",
       "        vertical-align: middle;\n",
       "    }\n",
       "\n",
       "    .dataframe tbody tr th {\n",
       "        vertical-align: top;\n",
       "    }\n",
       "\n",
       "    .dataframe thead th {\n",
       "        text-align: right;\n",
       "    }\n",
       "</style>\n",
       "<table border=\"1\" class=\"dataframe\">\n",
       "  <thead>\n",
       "    <tr style=\"text-align: right;\">\n",
       "      <th></th>\n",
       "      <th>trips_in_first_30_days</th>\n",
       "      <th>signup_date</th>\n",
       "      <th>avg_rating_of_driver</th>\n",
       "      <th>avg_surge</th>\n",
       "      <th>last_trip_date</th>\n",
       "      <th>surge_pct</th>\n",
       "      <th>ultimate_black_user</th>\n",
       "      <th>weekday_pct</th>\n",
       "      <th>avg_dist</th>\n",
       "      <th>avg_rating_by_driver</th>\n",
       "      <th>active</th>\n",
       "      <th>city_King's Landing</th>\n",
       "      <th>city_Winterfell</th>\n",
       "      <th>phone_iPhone</th>\n",
       "    </tr>\n",
       "  </thead>\n",
       "  <tbody>\n",
       "    <tr>\n",
       "      <td>0</td>\n",
       "      <td>4</td>\n",
       "      <td>2014-01-25</td>\n",
       "      <td>4.700000</td>\n",
       "      <td>1.10</td>\n",
       "      <td>2014-06-17</td>\n",
       "      <td>15.4</td>\n",
       "      <td>True</td>\n",
       "      <td>46.2</td>\n",
       "      <td>3.67</td>\n",
       "      <td>5.0</td>\n",
       "      <td>True</td>\n",
       "      <td>1</td>\n",
       "      <td>0</td>\n",
       "      <td>1</td>\n",
       "    </tr>\n",
       "    <tr>\n",
       "      <td>1</td>\n",
       "      <td>0</td>\n",
       "      <td>2014-01-29</td>\n",
       "      <td>5.000000</td>\n",
       "      <td>1.00</td>\n",
       "      <td>2014-05-05</td>\n",
       "      <td>0.0</td>\n",
       "      <td>False</td>\n",
       "      <td>50.0</td>\n",
       "      <td>8.26</td>\n",
       "      <td>5.0</td>\n",
       "      <td>False</td>\n",
       "      <td>0</td>\n",
       "      <td>0</td>\n",
       "      <td>0</td>\n",
       "    </tr>\n",
       "    <tr>\n",
       "      <td>2</td>\n",
       "      <td>3</td>\n",
       "      <td>2014-01-06</td>\n",
       "      <td>4.300000</td>\n",
       "      <td>1.00</td>\n",
       "      <td>2014-01-07</td>\n",
       "      <td>0.0</td>\n",
       "      <td>False</td>\n",
       "      <td>100.0</td>\n",
       "      <td>0.77</td>\n",
       "      <td>5.0</td>\n",
       "      <td>False</td>\n",
       "      <td>0</td>\n",
       "      <td>0</td>\n",
       "      <td>1</td>\n",
       "    </tr>\n",
       "    <tr>\n",
       "      <td>3</td>\n",
       "      <td>9</td>\n",
       "      <td>2014-01-10</td>\n",
       "      <td>4.600000</td>\n",
       "      <td>1.14</td>\n",
       "      <td>2014-06-29</td>\n",
       "      <td>20.0</td>\n",
       "      <td>True</td>\n",
       "      <td>80.0</td>\n",
       "      <td>2.36</td>\n",
       "      <td>4.9</td>\n",
       "      <td>True</td>\n",
       "      <td>1</td>\n",
       "      <td>0</td>\n",
       "      <td>1</td>\n",
       "    </tr>\n",
       "    <tr>\n",
       "      <td>4</td>\n",
       "      <td>14</td>\n",
       "      <td>2014-01-27</td>\n",
       "      <td>4.400000</td>\n",
       "      <td>1.19</td>\n",
       "      <td>2014-03-15</td>\n",
       "      <td>11.8</td>\n",
       "      <td>False</td>\n",
       "      <td>82.4</td>\n",
       "      <td>3.13</td>\n",
       "      <td>4.9</td>\n",
       "      <td>False</td>\n",
       "      <td>0</td>\n",
       "      <td>1</td>\n",
       "      <td>0</td>\n",
       "    </tr>\n",
       "    <tr>\n",
       "      <td>...</td>\n",
       "      <td>...</td>\n",
       "      <td>...</td>\n",
       "      <td>...</td>\n",
       "      <td>...</td>\n",
       "      <td>...</td>\n",
       "      <td>...</td>\n",
       "      <td>...</td>\n",
       "      <td>...</td>\n",
       "      <td>...</td>\n",
       "      <td>...</td>\n",
       "      <td>...</td>\n",
       "      <td>...</td>\n",
       "      <td>...</td>\n",
       "      <td>...</td>\n",
       "    </tr>\n",
       "    <tr>\n",
       "      <td>49995</td>\n",
       "      <td>0</td>\n",
       "      <td>2014-01-25</td>\n",
       "      <td>5.000000</td>\n",
       "      <td>1.00</td>\n",
       "      <td>2014-06-05</td>\n",
       "      <td>0.0</td>\n",
       "      <td>False</td>\n",
       "      <td>100.0</td>\n",
       "      <td>5.63</td>\n",
       "      <td>4.2</td>\n",
       "      <td>True</td>\n",
       "      <td>1</td>\n",
       "      <td>0</td>\n",
       "      <td>1</td>\n",
       "    </tr>\n",
       "    <tr>\n",
       "      <td>49996</td>\n",
       "      <td>1</td>\n",
       "      <td>2014-01-24</td>\n",
       "      <td>4.601559</td>\n",
       "      <td>1.00</td>\n",
       "      <td>2014-01-25</td>\n",
       "      <td>0.0</td>\n",
       "      <td>False</td>\n",
       "      <td>0.0</td>\n",
       "      <td>0.00</td>\n",
       "      <td>4.0</td>\n",
       "      <td>False</td>\n",
       "      <td>0</td>\n",
       "      <td>0</td>\n",
       "      <td>1</td>\n",
       "    </tr>\n",
       "    <tr>\n",
       "      <td>49997</td>\n",
       "      <td>0</td>\n",
       "      <td>2014-01-31</td>\n",
       "      <td>5.000000</td>\n",
       "      <td>1.00</td>\n",
       "      <td>2014-05-22</td>\n",
       "      <td>0.0</td>\n",
       "      <td>True</td>\n",
       "      <td>100.0</td>\n",
       "      <td>3.86</td>\n",
       "      <td>5.0</td>\n",
       "      <td>False</td>\n",
       "      <td>0</td>\n",
       "      <td>1</td>\n",
       "      <td>0</td>\n",
       "    </tr>\n",
       "    <tr>\n",
       "      <td>49998</td>\n",
       "      <td>2</td>\n",
       "      <td>2014-01-14</td>\n",
       "      <td>3.000000</td>\n",
       "      <td>1.00</td>\n",
       "      <td>2014-01-15</td>\n",
       "      <td>0.0</td>\n",
       "      <td>False</td>\n",
       "      <td>100.0</td>\n",
       "      <td>4.58</td>\n",
       "      <td>3.5</td>\n",
       "      <td>False</td>\n",
       "      <td>0</td>\n",
       "      <td>0</td>\n",
       "      <td>1</td>\n",
       "    </tr>\n",
       "    <tr>\n",
       "      <td>49999</td>\n",
       "      <td>0</td>\n",
       "      <td>2014-01-18</td>\n",
       "      <td>4.601559</td>\n",
       "      <td>1.00</td>\n",
       "      <td>2014-04-20</td>\n",
       "      <td>0.0</td>\n",
       "      <td>False</td>\n",
       "      <td>0.0</td>\n",
       "      <td>3.49</td>\n",
       "      <td>5.0</td>\n",
       "      <td>False</td>\n",
       "      <td>0</td>\n",
       "      <td>0</td>\n",
       "      <td>0</td>\n",
       "    </tr>\n",
       "  </tbody>\n",
       "</table>\n",
       "<p>49604 rows × 14 columns</p>\n",
       "</div>"
      ],
      "text/plain": [
       "       trips_in_first_30_days signup_date  avg_rating_of_driver  avg_surge  \\\n",
       "0                           4  2014-01-25              4.700000       1.10   \n",
       "1                           0  2014-01-29              5.000000       1.00   \n",
       "2                           3  2014-01-06              4.300000       1.00   \n",
       "3                           9  2014-01-10              4.600000       1.14   \n",
       "4                          14  2014-01-27              4.400000       1.19   \n",
       "...                       ...         ...                   ...        ...   \n",
       "49995                       0  2014-01-25              5.000000       1.00   \n",
       "49996                       1  2014-01-24              4.601559       1.00   \n",
       "49997                       0  2014-01-31              5.000000       1.00   \n",
       "49998                       2  2014-01-14              3.000000       1.00   \n",
       "49999                       0  2014-01-18              4.601559       1.00   \n",
       "\n",
       "      last_trip_date  surge_pct  ultimate_black_user  weekday_pct  avg_dist  \\\n",
       "0         2014-06-17       15.4                 True         46.2      3.67   \n",
       "1         2014-05-05        0.0                False         50.0      8.26   \n",
       "2         2014-01-07        0.0                False        100.0      0.77   \n",
       "3         2014-06-29       20.0                 True         80.0      2.36   \n",
       "4         2014-03-15       11.8                False         82.4      3.13   \n",
       "...              ...        ...                  ...          ...       ...   \n",
       "49995     2014-06-05        0.0                False        100.0      5.63   \n",
       "49996     2014-01-25        0.0                False          0.0      0.00   \n",
       "49997     2014-05-22        0.0                 True        100.0      3.86   \n",
       "49998     2014-01-15        0.0                False        100.0      4.58   \n",
       "49999     2014-04-20        0.0                False          0.0      3.49   \n",
       "\n",
       "       avg_rating_by_driver  active  city_King's Landing  city_Winterfell  \\\n",
       "0                       5.0    True                    1                0   \n",
       "1                       5.0   False                    0                0   \n",
       "2                       5.0   False                    0                0   \n",
       "3                       4.9    True                    1                0   \n",
       "4                       4.9   False                    0                1   \n",
       "...                     ...     ...                  ...              ...   \n",
       "49995                   4.2    True                    1                0   \n",
       "49996                   4.0   False                    0                0   \n",
       "49997                   5.0   False                    0                1   \n",
       "49998                   3.5   False                    0                0   \n",
       "49999                   5.0   False                    0                0   \n",
       "\n",
       "       phone_iPhone  \n",
       "0                 1  \n",
       "1                 0  \n",
       "2                 1  \n",
       "3                 1  \n",
       "4                 0  \n",
       "...             ...  \n",
       "49995             1  \n",
       "49996             1  \n",
       "49997             0  \n",
       "49998             1  \n",
       "49999             0  \n",
       "\n",
       "[49604 rows x 14 columns]"
      ]
     },
     "execution_count": 26,
     "metadata": {},
     "output_type": "execute_result"
    }
   ],
   "source": [
    "ultimate_data"
   ]
  },
  {
   "cell_type": "code",
   "execution_count": 27,
   "metadata": {},
   "outputs": [
    {
     "data": {
      "text/plain": [
       "active\n",
       "False    1.657033\n",
       "True     3.304804\n",
       "Name: trips_in_first_30_days, dtype: float64"
      ]
     },
     "execution_count": 27,
     "metadata": {},
     "output_type": "execute_result"
    }
   ],
   "source": [
    "#users who took more trips during the first 30 days after they signed up, are more likely to be retained active users\n",
    "ultimate_data.groupby(['active'])['trips_in_first_30_days'].mean()"
   ]
  },
  {
   "cell_type": "code",
   "execution_count": 28,
   "metadata": {},
   "outputs": [
    {
     "data": {
      "text/plain": [
       "(array([4.8366e+04, 1.0330e+03, 1.5800e+02, 3.2000e+01, 1.1000e+01,\n",
       "        3.0000e+00, 0.0000e+00, 0.0000e+00, 0.0000e+00, 1.0000e+00]),\n",
       " array([  0. ,  12.5,  25. ,  37.5,  50. ,  62.5,  75. ,  87.5, 100. ,\n",
       "        112.5, 125. ]),\n",
       " <a list of 10 Patch objects>)"
      ]
     },
     "execution_count": 28,
     "metadata": {},
     "output_type": "execute_result"
    },
    {
     "data": {
      "image/png": "[encoded data removed]",
      "text/plain": [
       "<Figure size 432x288 with 1 Axes>"
      ]
     },
     "metadata": {
      "needs_background": "light"
     },
     "output_type": "display_data"
    }
   ],
   "source": [
    "plt.hist(ultimate_data['trips_in_first_30_days'])"
   ]
  },
  {
   "cell_type": "code",
   "execution_count": 29,
   "metadata": {},
   "outputs": [
    {
     "data": {
      "text/plain": [
       "(array([4.6873e+04, 2.4440e+03, 2.4100e+02, 3.7000e+01, 8.0000e+00,\n",
       "        0.0000e+00, 0.0000e+00, 0.0000e+00, 0.0000e+00, 1.0000e+00]),\n",
       " array([  0.   ,  16.096,  32.192,  48.288,  64.384,  80.48 ,  96.576,\n",
       "        112.672, 128.768, 144.864, 160.96 ]),\n",
       " <a list of 10 Patch objects>)"
      ]
     },
     "execution_count": 29,
     "metadata": {},
     "output_type": "execute_result"
    },
    {
     "data": {
      "image/png": "[encoded data removed]",
      "text/plain": [
       "<Figure size 432x288 with 1 Axes>"
      ]
     },
     "metadata": {
      "needs_background": "light"
     },
     "output_type": "display_data"
    }
   ],
   "source": [
    "plt.hist(ultimate_data['avg_dist'])"
   ]
  },
  {
   "cell_type": "code",
   "execution_count": 30,
   "metadata": {},
   "outputs": [
    {
     "data": {
      "text/plain": [
       "active  ultimate_black_user\n",
       "False   False                  21731\n",
       "        True                    9202\n",
       "True    True                    9410\n",
       "        False                   9261\n",
       "Name: ultimate_black_user, dtype: int64"
      ]
     },
     "execution_count": 30,
     "metadata": {},
     "output_type": "execute_result"
    }
   ],
   "source": [
    "#ultimate_black users are more likely to be retained/active users\n",
    "ultimate_data.groupby(['active'])['ultimate_black_user'].value_counts()"
   ]
  },
  {
   "cell_type": "code",
   "execution_count": 31,
   "metadata": {},
   "outputs": [
    {
     "data": {
      "text/plain": [
       "active\n",
       "False    6.190725\n",
       "True     5.113930\n",
       "Name: avg_dist, dtype: float64"
      ]
     },
     "execution_count": 31,
     "metadata": {},
     "output_type": "execute_result"
    }
   ],
   "source": [
    "ultimate_data.groupby(['active'])['avg_dist'].mean()"
   ]
  },
  {
   "cell_type": "code",
   "execution_count": 32,
   "metadata": {},
   "outputs": [
    {
     "data": {
      "text/plain": [
       "active\n",
       "False    4.78699\n",
       "True     4.76274\n",
       "Name: avg_rating_by_driver, dtype: float64"
      ]
     },
     "execution_count": 32,
     "metadata": {},
     "output_type": "execute_result"
    }
   ],
   "source": [
    "ultimate_data.groupby(['active'])['avg_rating_by_driver'].mean()"
   ]
  },
  {
   "cell_type": "code",
   "execution_count": 33,
   "metadata": {},
   "outputs": [
    {
     "data": {
      "text/plain": [
       "active\n",
       "False    1.075689\n",
       "True     1.073834\n",
       "Name: avg_surge, dtype: float64"
      ]
     },
     "execution_count": 33,
     "metadata": {},
     "output_type": "execute_result"
    }
   ],
   "source": [
    "ultimate_data.groupby(['active'])['avg_surge'].mean()"
   ]
  },
  {
   "cell_type": "code",
   "execution_count": 34,
   "metadata": {},
   "outputs": [
    {
     "data": {
      "text/plain": [
       "active\n",
       "False    60.605952\n",
       "True     61.344208\n",
       "Name: weekday_pct, dtype: float64"
      ]
     },
     "execution_count": 34,
     "metadata": {},
     "output_type": "execute_result"
    }
   ],
   "source": [
    "ultimate_data.groupby(['active'])['weekday_pct'].mean()"
   ]
  },
  {
   "cell_type": "markdown",
   "metadata": {},
   "source": [
    "Model Selection: \n",
    "\n",
    "I decide to pick a random forest to predict active users because: it usually requires very little time to optimize it (its default params are often close to the best ones) and it is strong with outliers, irrelevant variables, continuous and discrete variables. After I construct the random forest model, I use variable importance plot to get insight about the variables.\n",
    "\n",
    "Logistic regression is also an useful algorithm to classify binary data, but it doesn't handle correlation between features very well."
   ]
  },
  {
   "cell_type": "code",
   "execution_count": 35,
   "metadata": {},
   "outputs": [],
   "source": [
    "X=ultimate_data.drop(['active','signup_date','last_trip_date'],axis=1)\n",
    "y=ultimate_data['active']\n",
    "X_train, X_test, y_train, y_test=train_test_split(X, y, test_size=0.25, random_state=27)"
   ]
  },
  {
   "cell_type": "code",
   "execution_count": 36,
   "metadata": {},
   "outputs": [
    {
     "name": "stdout",
     "output_type": "stream",
     "text": [
      "0.7595355213289251\n",
      "0.8217223531373959\n"
     ]
    }
   ],
   "source": [
    "clf = RandomForestClassifier(class_weight='balanced')\n",
    "clf.fit(X_train,y_train)\n",
    "y_pred=clf.predict(X_test)\n",
    "accuracy = accuracy_score(y_test, y_pred)\n",
    "print(accuracy)\n",
    "y_pred_prob=clf.predict_proba(X_test)[:,1]\n",
    "auc=roc_auc_score(y_test,y_pred_prob)\n",
    "print(auc)"
   ]
  },
  {
   "cell_type": "code",
   "execution_count": 37,
   "metadata": {},
   "outputs": [],
   "source": [
    "fpr, tpr, thresholds = roc_curve(y_test, y_pred_prob)\n",
    "precision, recall, thresholds = precision_recall_curve(y_test, y_pred_prob)"
   ]
  },
  {
   "cell_type": "code",
   "execution_count": 38,
   "metadata": {},
   "outputs": [
    {
     "data": {
      "image/png": "[encoded data removed]",
      "text/plain": [
       "<Figure size 1152x576 with 2 Axes>"
      ]
     },
     "metadata": {
      "needs_background": "light"
     },
     "output_type": "display_data"
    }
   ],
   "source": [
    "plt.figure(figsize=(16,8))\n",
    "plt.subplot(1,2,1)\n",
    "plt.title(\"ROC Curve\")\n",
    "plt.plot(fpr,tpr)\n",
    "plt.plot([0, 1], ls=\"--\")\n",
    "plt.plot([0, 0], [1, 0] , c=\".7\"), plt.plot([1, 1] , c=\".7\")\n",
    "plt.ylabel('True Positive Rate')\n",
    "plt.xlabel('False Positive Rate')\n",
    "\n",
    "plt.subplot(1,2,2)\n",
    "plt.title(\"Precision-Recall Curve\")\n",
    "plt.plot(recall,precision)\n",
    "plt.plot([1, 0], ls=\"--\")\n",
    "plt.plot([1, 1], [1, 0] , c=\".7\"), plt.plot([1, 1] , c=\".7\")\n",
    "plt.ylabel('Precision')\n",
    "plt.xlabel('Recall')\n",
    "plt.show()"
   ]
  },
  {
   "cell_type": "code",
   "execution_count": 39,
   "metadata": {},
   "outputs": [
    {
     "name": "stdout",
     "output_type": "stream",
     "text": [
      "Feature ranking:\n",
      "1. feature 6 (0.305358)\n",
      "2. feature 5 (0.131636)\n",
      "3. feature 7 (0.121395)\n",
      "4. feature 3 (0.082476)\n",
      "5. feature 0 (0.080367)\n",
      "6. feature 1 (0.079638)\n",
      "7. feature 8 (0.064335)\n",
      "8. feature 2 (0.052440)\n",
      "9. feature 10 (0.037153)\n",
      "10. feature 4 (0.029046)\n",
      "11. feature 9 (0.016157)\n"
     ]
    },
    {
     "data": {
      "text/plain": [
       "(array([ 0,  1,  2,  3,  4,  5,  6,  7,  8,  9, 10]),\n",
       " <a list of 11 Text xticklabel objects>)"
      ]
     },
     "execution_count": 39,
     "metadata": {},
     "output_type": "execute_result"
    },
    {
     "data": {
      "image/png": "[encoded data removed]",
      "text/plain": [
       "<Figure size 432x288 with 1 Axes>"
      ]
     },
     "metadata": {
      "needs_background": "light"
     },
     "output_type": "display_data"
    }
   ],
   "source": [
    "importances = clf.feature_importances_\n",
    "std = np.std([tree.feature_importances_ for tree in clf.estimators_],axis=0)\n",
    "indices = np.argsort(importances)[::-1]\n",
    "\n",
    "# Print the feature ranking\n",
    "print(\"Feature ranking:\")\n",
    "\n",
    "for f in range(X_train.shape[1]):\n",
    "    print(\"%d. feature %d (%f)\" % (f + 1, indices[f], importances[indices[f]]))\n",
    "\n",
    "# Plot the feature importances of the forest\n",
    "plt.figure()\n",
    "plt.title(\"Feature importances\")\n",
    "sns.barplot(x=X_train.columns[indices], y=importances[indices], color=sns.xkcd_rgb[\"pale red\"])\n",
    "plt.title('Feature Importances', fontsize=15)\n",
    "plt.ylabel('Relative Feature Importance', fontsize=12)\n",
    "plt.xticks(fontsize=12, rotation=90)"
   ]
  },
  {
   "cell_type": "markdown",
   "metadata": {},
   "source": [
    "Conclusions:\n",
    "    \n",
    "1. Average trip distance and weekday percentage of trips are the top three predictors of active user. (shorter trip, weekday usage lead to active users) User who used Ultimate on weekdays developed a habit of using the service and more likely to be retained. The company could focus on reducing wait time at rush hours or reduce the cost of a trip during weekdays to attract more users who use the app on weekdays.\n",
    "\n",
    "\n",
    "2. City of King's Landing has much higher active user rate compared to the other two cities. The company should research on the reason(e.g. publicity, competition, geography, pricing) of the cities and take measures to improve active rate in the other two cities.\n",
    "\n",
    "\n",
    "3. Ultimate black users are more likely to be active users. The causal relationship is hard to identify. It could be Ultimate black users like the service and use Ultimate more, or it could be the most loyal users started to use the Ultimate black service. Marketing the Ultimate black service to the target customers could potentially lead to more active user rate.\n"
   ]
  }
 ],
 "metadata": {
  "kernelspec": {
   "display_name": "Python 3",
   "language": "python",
   "name": "python3"
  },
  "language_info": {
   "codemirror_mode": {
    "name": "ipython",
    "version": 3
   },
   "file_extension": ".py",
   "mimetype": "text/x-python",
   "name": "python",
   "nbconvert_exporter": "python",
   "pygments_lexer": "ipython3",
   "version": "3.7.4"
  }
 },
 "nbformat": 4,
 "nbformat_minor": 2
}
